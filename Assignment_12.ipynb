{
 "cells": [
  {
   "cell_type": "markdown",
   "id": "afac18d3",
   "metadata": {},
   "source": [
    "1.In what modes should the PdfFileReader() and PdfFileWriter() File objects will be opened?"
   ]
  },
  {
   "cell_type": "code",
   "execution_count": null,
   "id": "95b1a439",
   "metadata": {},
   "outputs": [],
   "source": [
    "Ans: PdfFileReader() file object should be opened in read binary(rb) mode\n",
    "     PdfFileWriter() flie object should be opened in write binary(wb) mode"
   ]
  },
  {
   "cell_type": "markdown",
   "id": "ff035de6",
   "metadata": {},
   "source": [
    "2.From a PdfFileReader object, how do you get a Page object for page 5?"
   ]
  },
  {
   "cell_type": "markdown",
   "id": "1c2882fc",
   "metadata": {},
   "source": [
    "Ans: From PyPDF2 package we should import PdfFileReader and then we can use the getpage(4) to get the page object, Here we use 4 because page start from 0.\n",
    "\n",
    "#example importing lines\n",
    "\n",
    "import PyPDF2\n",
    "\n",
    "from PyPDF2 import PdfFileReader\n",
    "\n",
    "PdfFileReader.getPage(4)"
   ]
  },
  {
   "cell_type": "markdown",
   "id": "af23d528",
   "metadata": {},
   "source": [
    "3.What PdfFileReader variable stores the number of pages in the PDF document?"
   ]
  },
  {
   "cell_type": "code",
   "execution_count": null,
   "id": "bb45c4fc",
   "metadata": {},
   "outputs": [],
   "source": [
    "Ans: PdfFileReader.getNumPages() is used to get number of pages in PDF document."
   ]
  },
  {
   "cell_type": "markdown",
   "id": "3577ce21",
   "metadata": {},
   "source": [
    "4.If a PdfFileReader object’s PDF is encrypted with the password swordfish, what must you do\n",
    "before you can obtain Page objects from it?"
   ]
  },
  {
   "cell_type": "code",
   "execution_count": null,
   "id": "3e84380d",
   "metadata": {},
   "outputs": [],
   "source": [
    "Ans: PdfFileReader.decrypt('swordfish')"
   ]
  },
  {
   "cell_type": "markdown",
   "id": "626cc026",
   "metadata": {},
   "source": [
    "5.What methods do you use to rotate a page?"
   ]
  },
  {
   "cell_type": "markdown",
   "id": "7eb74116",
   "metadata": {},
   "source": [
    "Ans: rotateClockwise() and rotateCounterClockwise() are the methods used to rotate a page"
   ]
  },
  {
   "cell_type": "markdown",
   "id": "cea20a36",
   "metadata": {},
   "source": [
    "6.What is the difference between a Run object and a Paragraph object?"
   ]
  },
  {
   "cell_type": "markdown",
   "id": "d7131fd4",
   "metadata": {},
   "source": [
    "Ans: A paragraph begins on a new line and contains multiple runs and runs are groups of characters within a paragraph."
   ]
  },
  {
   "cell_type": "markdown",
   "id": "83d0394a",
   "metadata": {},
   "source": [
    "7.How do you obtain a list of Paragraph objects for a Document object that’s stored in a variable\n",
    "named doc?"
   ]
  },
  {
   "cell_type": "markdown",
   "id": "b7ae5553",
   "metadata": {},
   "source": [
    "Ans: use Document from docx and read the file for suppose into doc, now use doc.paragraphs"
   ]
  },
  {
   "cell_type": "markdown",
   "id": "cdb2f51d",
   "metadata": {},
   "source": [
    "8.What type of object has bold, underline, italic, strike, and outline variables?"
   ]
  },
  {
   "cell_type": "markdown",
   "id": "e03ec7f4",
   "metadata": {},
   "source": [
    "Ans: Run object has  bold, underline, italic, strike, and outline variables."
   ]
  },
  {
   "cell_type": "markdown",
   "id": "111fc5e9",
   "metadata": {},
   "source": [
    "9.What is the difference between False, True, and None for the bold variable?"
   ]
  },
  {
   "cell_type": "markdown",
   "id": "04d3efd6",
   "metadata": {},
   "source": [
    "Ans: True means style is set to bold, False means style is not set to bold and none means style is applicable"
   ]
  },
  {
   "cell_type": "markdown",
   "id": "9e937e8b",
   "metadata": {},
   "source": [
    "10.How do you create a Document object for a new Word document?"
   ]
  },
  {
   "cell_type": "code",
   "execution_count": 6,
   "id": "8139ecb6",
   "metadata": {},
   "outputs": [
    {
     "data": {
      "text/plain": [
       "<docx.document.Document at 0x7fdad1f960c0>"
      ]
     },
     "execution_count": 6,
     "metadata": {},
     "output_type": "execute_result"
    }
   ],
   "source": [
    "import docx\n",
    "document = docx.Document()\n",
    "document"
   ]
  },
  {
   "cell_type": "markdown",
   "id": "0ab4225b",
   "metadata": {},
   "source": [
    "11.How do you add a paragraph with the text 'Hello, there!' to a Document object stored in a\n",
    "variable named doc?"
   ]
  },
  {
   "cell_type": "code",
   "execution_count": 9,
   "id": "8ddfbd09",
   "metadata": {},
   "outputs": [],
   "source": [
    "from docx import Document\n",
    "doc = Document()\n",
    "doc.add_paragraph('Hello, there!')\n",
    "doc.save('hello.docx')"
   ]
  },
  {
   "cell_type": "markdown",
   "id": "73b90ad2",
   "metadata": {},
   "source": [
    "12.What integers represent the levels of headings available in Word documents?"
   ]
  },
  {
   "cell_type": "code",
   "execution_count": null,
   "id": "b37da76f",
   "metadata": {},
   "outputs": [],
   "source": [
    "Ans: The integers 0,1,2,3,4 represent the level of headings in word documents."
   ]
  }
 ],
 "metadata": {
  "kernelspec": {
   "display_name": "Python 3 (ipykernel)",
   "language": "python",
   "name": "python3"
  },
  "language_info": {
   "codemirror_mode": {
    "name": "ipython",
    "version": 3
   },
   "file_extension": ".py",
   "mimetype": "text/x-python",
   "name": "python",
   "nbconvert_exporter": "python",
   "pygments_lexer": "ipython3",
   "version": "3.9.7"
  }
 },
 "nbformat": 4,
 "nbformat_minor": 5
}
