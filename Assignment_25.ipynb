{
 "cells": [
  {
   "cell_type": "markdown",
   "id": "fc735130",
   "metadata": {},
   "source": [
    "1) . What is the difference between enclosing a list comprehension in square brackets and parentheses?"
   ]
  },
  {
   "cell_type": "markdown",
   "id": "00a3b3bd",
   "metadata": {},
   "source": [
    "Ans: \n",
    "\n",
    "square brackets [] : When we use square brackets to enclose a list comprehension the result will be a new list based on the logic.\n",
    "\n",
    "parentheses () : When we use parentheses to enclose a list comprehension the result will be a generator object."
   ]
  },
  {
   "cell_type": "markdown",
   "id": "3f193439",
   "metadata": {},
   "source": [
    "2) What is the relationship between generators and iterators?"
   ]
  },
  {
   "cell_type": "markdown",
   "id": "a1338575",
   "metadata": {},
   "source": [
    "Ans: \n",
    "\n",
    "Iterator :\n",
    "\n",
    "-> Iterators are used to traverse a iterable object elements one by one.\n",
    "-> Two methods iter() and next() are used.\n",
    "-> First the iter() just returns the iterator object.\n",
    "-> The next() method is used to return the elements one by one after running the next() from the iterator.\n",
    "-> once all the elements are over then stopiteraton message is shown.\n",
    "\n",
    "Generator :\n",
    "\n",
    "-> A generator is implemented using a function and this generator is a type of iterator.\n",
    "-> At the end of the function use yield instead of return.\n",
    "-> These generator objects can be iterated using next() or a for loop.\n",
    "-> generators are memory efficient as they generate values on demand.\n",
    "-> The yield hold's the execution and yields value, when next() is called it will continue the execution.\n",
    "\n"
   ]
  },
  {
   "cell_type": "markdown",
   "id": "d9580654",
   "metadata": {},
   "source": [
    "3) What are the signs that a function is a generator function?"
   ]
  },
  {
   "cell_type": "markdown",
   "id": "c91bb61d",
   "metadata": {},
   "source": [
    "Ans: \n",
    "    \n",
    "-> When there is a keyword 'yield' instead of return then we can consider that it is a generator function.\n",
    "-> A generator object is created when a generator function is called and it is used to iterate over the generated values without executing the code again where we can use next() or a for loop.\n",
    "-> Generator functions hold the execution and when next value is needed by the caller they will resume the execution. whereas in normal functions this is not the case.\n",
    "\n",
    "These are few differences between generator functions and normal functions."
   ]
  },
  {
   "cell_type": "markdown",
   "id": "17641b97",
   "metadata": {},
   "source": [
    "4) What is the purpose of a yield statement?"
   ]
  },
  {
   "cell_type": "markdown",
   "id": "3e56c26b",
   "metadata": {},
   "source": [
    "Ans: It is used to yield a value from the generator function to the caller, A generator object is created.\n",
    "\n",
    "Ex:\n",
    "\n",
    "def square(n):\n",
    "    for i in range(n):\n",
    "        yield i**2\n",
    "        \n",
    "a = square(3)\n",
    "\n",
    "\n",
    "Here checking the type(a) will show generator because we used yield instead of return.\n",
    "\n",
    "now running next(a) for the first time will give output as 0 and running secind time will give 1 and running next(a) for the third time will give output as 4 and again if we run then we will get stopiteration error.\n",
    "\n",
    "\n",
    "But if we use the code where yield is replaced with return like this :\n",
    "\n",
    "def square(n):\n",
    "    for i in range(n):\n",
    "         return i**2\n",
    "        \n",
    "a = square(3)\n",
    "\n",
    "here upon checking the value of a it will give 0 and even giving next(a) will give an error saying 'int' object is not an iterator. So here the yield is used to iterate where upon using return we cannot iterate as no generator object is created."
   ]
  },
  {
   "cell_type": "markdown",
   "id": "516d4756",
   "metadata": {},
   "source": [
    "5) What is the relationship between map calls and list comprehensions? Make a comparison and\n",
    "contrast between the two."
   ]
  },
  {
   "cell_type": "markdown",
   "id": "00410b98",
   "metadata": {},
   "source": [
    "Ans: \n",
    "    \n",
    "map() is used to apply a function to elements of an iterable. where it's parameters are function and the iterable and the results are returned as iterator, inside the map either we can write function using lambda or use the function we already created using def. The iterator can be converted to other iterable types such as list()\n",
    "\n",
    "List comprehensions is a way to create a new list from a list or iterables. it is comprised inside [], and we write an expression inside and a loop or conditional statements if needed, so the expression is applied to all the elements of the iterable.\n",
    "\n",
    "\n",
    "map example : \n",
    "\n",
    "numbers = (1,2,3,4)\n",
    "result = map(lambda x:x+3 , numbers)\n",
    "print(list(result))\n",
    "\n",
    "here we used print(list(result)) to give us a list, incase if we don't use list inbetween and just use print(result) then the output will be just a map object then we need to use a for loop over the result to see the result.\n",
    "\n",
    "\n",
    "list comprehension example:\n",
    "\n",
    "names = ['rohit','kohli','dhoni','bumrah','rahane']\n",
    "new_list = [x for x in names if 'o' in x]\n",
    "print(new_list)\n",
    "\n",
    "here the list comprehension directly creates a new list."
   ]
  }
 ],
 "metadata": {
  "kernelspec": {
   "display_name": "Python 3 (ipykernel)",
   "language": "python",
   "name": "python3"
  },
  "language_info": {
   "codemirror_mode": {
    "name": "ipython",
    "version": 3
   },
   "file_extension": ".py",
   "mimetype": "text/x-python",
   "name": "python",
   "nbconvert_exporter": "python",
   "pygments_lexer": "ipython3",
   "version": "3.9.7"
  }
 },
 "nbformat": 4,
 "nbformat_minor": 5
}
