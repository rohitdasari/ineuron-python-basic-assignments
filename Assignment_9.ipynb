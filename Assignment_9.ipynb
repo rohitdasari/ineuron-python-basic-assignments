{
 "cells": [
  {
   "cell_type": "markdown",
   "id": "2279c180",
   "metadata": {},
   "source": [
    "1.To what does a relative path refer?"
   ]
  },
  {
   "cell_type": "code",
   "execution_count": null,
   "id": "0b95a70f",
   "metadata": {},
   "outputs": [],
   "source": [
    "Ans: Relative path shows current working directory."
   ]
  },
  {
   "cell_type": "markdown",
   "id": "10d88f73",
   "metadata": {},
   "source": [
    "2.What does an absolute path start with your operating system?"
   ]
  },
  {
   "cell_type": "markdown",
   "id": "7854e370",
   "metadata": {},
   "source": [
    "Ans: Root folder starts with absolute path "
   ]
  },
  {
   "cell_type": "markdown",
   "id": "65d6ec34",
   "metadata": {},
   "source": [
    "3.What do the functions os.getcwd() and os.chdir() do?"
   ]
  },
  {
   "cell_type": "markdown",
   "id": "a7b3c1a9",
   "metadata": {},
   "source": [
    "Ans: os.getcwd() shows the current working directory and os.chdir() is used to change the current working directory"
   ]
  },
  {
   "cell_type": "markdown",
   "id": "8badb820",
   "metadata": {},
   "source": [
    "4.What are the . and .. folders?"
   ]
  },
  {
   "cell_type": "markdown",
   "id": "d4048203",
   "metadata": {},
   "source": [
    "Ans: . is current folder and .. is parent folder"
   ]
  },
  {
   "cell_type": "markdown",
   "id": "04564531",
   "metadata": {},
   "source": [
    "5.In C:\\bacon\\eggs\\spam.txt, which part is the dir name, and which part is the base name?"
   ]
  },
  {
   "cell_type": "markdown",
   "id": "9de7a15e",
   "metadata": {},
   "source": [
    "Ans: C:\\bacon\\eggs is the directory and spam.txt is base name"
   ]
  },
  {
   "cell_type": "markdown",
   "id": "2877f1e6",
   "metadata": {},
   "source": [
    "6.What are the three “mode” arguments that can be passed to the open() function?"
   ]
  },
  {
   "cell_type": "code",
   "execution_count": null,
   "id": "2a83fae9",
   "metadata": {},
   "outputs": [],
   "source": [
    "Ans: 'r' - read, 'w' - write, 'a' - append"
   ]
  },
  {
   "cell_type": "markdown",
   "id": "f8d9fca2",
   "metadata": {},
   "source": [
    "7.What happens if an existing file is opened in write mode?"
   ]
  },
  {
   "cell_type": "markdown",
   "id": "ff2f2393",
   "metadata": {},
   "source": [
    "Ans: The content of the file is cleared and the file will be a new empty file"
   ]
  },
  {
   "cell_type": "markdown",
   "id": "1dbcd726",
   "metadata": {},
   "source": [
    "8.How do you tell the difference between read() and readlines()?"
   ]
  },
  {
   "cell_type": "markdown",
   "id": "7880ebab",
   "metadata": {},
   "source": [
    "Ans: read() returns the entire content of the file at once as a single string whereas readlines() will return content line by line the break will happen at newline(\\n)"
   ]
  },
  {
   "cell_type": "markdown",
   "id": "dbbdef7f",
   "metadata": {},
   "source": [
    "9.What data structure does a shelf value resemble?"
   ]
  },
  {
   "cell_type": "markdown",
   "id": "da74954f",
   "metadata": {},
   "source": [
    "Ans: A shelf resembles dictionary where shelfitem.keys() gives the names of the keys and shelfitem.values() give the values. so a shelf value resembles dictionary value."
   ]
  }
 ],
 "metadata": {
  "kernelspec": {
   "display_name": "Python 3 (ipykernel)",
   "language": "python",
   "name": "python3"
  },
  "language_info": {
   "codemirror_mode": {
    "name": "ipython",
    "version": 3
   },
   "file_extension": ".py",
   "mimetype": "text/x-python",
   "name": "python",
   "nbconvert_exporter": "python",
   "pygments_lexer": "ipython3",
   "version": "3.9.7"
  }
 },
 "nbformat": 4,
 "nbformat_minor": 5
}
