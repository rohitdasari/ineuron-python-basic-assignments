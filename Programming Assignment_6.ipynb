{
 "cells": [
  {
   "cell_type": "markdown",
   "id": "f9b56fa0",
   "metadata": {},
   "source": [
    "1. Write a Python Program to Display Fibonacci Sequence Using Recursion?"
   ]
  },
  {
   "cell_type": "code",
   "execution_count": 36,
   "id": "876731dc",
   "metadata": {},
   "outputs": [
    {
     "name": "stdout",
     "output_type": "stream",
     "text": [
      "Enter number of terms: 5\n",
      "0\n",
      "1\n",
      "1\n",
      "2\n",
      "3\n"
     ]
    }
   ],
   "source": [
    "def fib_using_rec(n):\n",
    "    if n<=1:\n",
    "        return n\n",
    "    else:\n",
    "        return fib_using_rec(n-1)+fib_using_rec(n-2)\n",
    "\n",
    "nterms = int(input('Enter number of terms: '))    \n",
    "\n",
    "if nterms<= 0:\n",
    "    print('enter a positive number')\n",
    "else:\n",
    "    for i in range(nterms):\n",
    "        print(fib_using_rec(i))"
   ]
  },
  {
   "cell_type": "markdown",
   "id": "ecfcac39",
   "metadata": {},
   "source": [
    "2. Write a Python Program to Find Factorial of Number Using Recursion?"
   ]
  },
  {
   "cell_type": "code",
   "execution_count": 53,
   "id": "b5f44de7",
   "metadata": {},
   "outputs": [
    {
     "name": "stdout",
     "output_type": "stream",
     "text": [
      "Enter a number: 5\n",
      "120\n"
     ]
    }
   ],
   "source": [
    "def fact_rec(n):\n",
    "    if n<=0:\n",
    "        print('Please enter a number greater than 0')\n",
    "    elif n == 1:\n",
    "        return 1\n",
    "    else:\n",
    "        return n * fact_rec(n-1)\n",
    "    \n",
    "num = int(input('Enter a number: '))\n",
    "\n",
    "print(fact_rec(num))"
   ]
  },
  {
   "cell_type": "markdown",
   "id": "182b603e",
   "metadata": {},
   "source": [
    "3. Write a Python Program to calculate your Body Mass Index?"
   ]
  },
  {
   "cell_type": "code",
   "execution_count": 59,
   "id": "d24059e7",
   "metadata": {},
   "outputs": [
    {
     "name": "stdout",
     "output_type": "stream",
     "text": [
      "Enter the weight in kgs: 70\n",
      "Enter the height in meters: 2\n",
      "The BMI is 17.5\n"
     ]
    }
   ],
   "source": [
    "weight = float(input('Enter the weight in kgs: '))\n",
    "height = float(input('Enter the height in meters: '))\n",
    "\n",
    "BMI = weight/(height*height)\n",
    "\n",
    "print('The BMI is',round(BMI,2))"
   ]
  },
  {
   "cell_type": "markdown",
   "id": "9f3291e4",
   "metadata": {},
   "source": [
    "4. Write a Python Program to calculate the natural logarithm of any number?"
   ]
  },
  {
   "cell_type": "code",
   "execution_count": 61,
   "id": "872be72b",
   "metadata": {},
   "outputs": [
    {
     "name": "stdout",
     "output_type": "stream",
     "text": [
      "Enter the number: 10\n",
      "The natural logarithm of 10.0 is 2.302585092994046\n"
     ]
    }
   ],
   "source": [
    "import math\n",
    "\n",
    "num = float(input('Enter the number: '))\n",
    "\n",
    "result = math.log(num)\n",
    "\n",
    "print('The natural logarithm of',num,'is',result)"
   ]
  },
  {
   "cell_type": "markdown",
   "id": "8ea09885",
   "metadata": {},
   "source": [
    "5. Write a Python Program for cube sum of first n natural numbers?"
   ]
  },
  {
   "cell_type": "code",
   "execution_count": 65,
   "id": "b6ad973a",
   "metadata": {},
   "outputs": [
    {
     "name": "stdout",
     "output_type": "stream",
     "text": [
      "Enter a number: 5\n",
      "225\n"
     ]
    }
   ],
   "source": [
    "num = int(input('Enter a number: '))\n",
    "\n",
    "cube_sum = 0\n",
    "\n",
    "for i in range(1,num+1):\n",
    "    cube = i**3\n",
    "    cube_sum = cube_sum + cube\n",
    "    \n",
    "print(cube_sum)"
   ]
  },
  {
   "cell_type": "code",
   "execution_count": null,
   "id": "0502191a",
   "metadata": {},
   "outputs": [],
   "source": []
  }
 ],
 "metadata": {
  "kernelspec": {
   "display_name": "Python 3 (ipykernel)",
   "language": "python",
   "name": "python3"
  },
  "language_info": {
   "codemirror_mode": {
    "name": "ipython",
    "version": 3
   },
   "file_extension": ".py",
   "mimetype": "text/x-python",
   "name": "python",
   "nbconvert_exporter": "python",
   "pygments_lexer": "ipython3",
   "version": "3.9.7"
  }
 },
 "nbformat": 4,
 "nbformat_minor": 5
}
