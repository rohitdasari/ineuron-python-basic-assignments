{
 "cells": [
  {
   "cell_type": "markdown",
   "id": "29f5c127",
   "metadata": {},
   "source": [
    "1. Write a Python Program to Add Two Matrices?"
   ]
  },
  {
   "cell_type": "code",
   "execution_count": 56,
   "id": "06804df4",
   "metadata": {},
   "outputs": [
    {
     "name": "stdout",
     "output_type": "stream",
     "text": [
      "Please enter two matricess of same dimensions to perform addition\n",
      "Please enter matrix 1\n",
      "Please enter rows: 2\n",
      "Please enter columns: 2\n",
      "Enter the value(1,1): 1\n",
      "Enter the value(1,2): 2\n",
      "Enter the value(2,1): 3\n",
      "Enter the value(2,2): 4\n",
      "matrix 1\n",
      "[1.0, 2.0]\n",
      "[3.0, 4.0]\n",
      "Please enter matrix 2\n",
      "Please enter rows: 2\n",
      "Please enter columns: 2\n",
      "Enter the value(1,1): 6\n",
      "Enter the value(1,2): 7\n",
      "Enter the value(2,1): 8\n",
      "Enter the value(2,2): 9\n",
      "matrix 1\n",
      "[1.0, 2.0]\n",
      "[3.0, 4.0]\n",
      "matrix 2\n",
      "[6.0, 7.0]\n",
      "[8.0, 9.0]\n",
      "After adddition\n",
      "[7.0, 9.0]\n",
      "[11.0, 13.0]\n"
     ]
    }
   ],
   "source": [
    "def check_dim(matrix):\n",
    "    row = len(matrix)\n",
    "    column = len(matrix[0])\n",
    "    return row,column\n",
    "\n",
    "\n",
    "\n",
    "def mat_add(matrices):\n",
    "    rows,columns = check_dim(matrices[0])\n",
    "    \n",
    "    for matrix in matrices[1:]:\n",
    "        rows_curr,columns_curr = check_dim(matrix)\n",
    "        \n",
    "        if rows_curr!=rows or columns_curr!=columns:\n",
    "            raise ValueError('Dimensions are not matching for addition of matrices')\n",
    "            \n",
    "    result = [[0 for k in range(columns)]for p in range(rows)]\n",
    "    \n",
    "    for matrix in matrices:\n",
    "        for i in range(rows):\n",
    "            for j in range(columns):\n",
    "                result[i][j] = result[i][j] + matrix[i][j]\n",
    "                \n",
    "    return result\n",
    "\n",
    "def input_matrix(rows,columns):\n",
    "    m = []\n",
    "    \n",
    "    for i in range(rows):\n",
    "        row = []\n",
    "        for j in range(columns):\n",
    "            values = float(input(f'Enter the value({1+i},{1+j}): '))\n",
    "            row.append(values)\n",
    "        m.append(row)\n",
    "        \n",
    "    return m\n",
    "\n",
    "\n",
    "\n",
    "def main():\n",
    "    try:\n",
    "        print('Please enter two matricess of same dimensions to perform addition')\n",
    "\n",
    "        matrices = []\n",
    "\n",
    "        for n in range(1,3):\n",
    "            print('Please enter matrix',n)\n",
    "            rows = int(input('Please enter rows: '))\n",
    "            columns = int(input('Please enter columns: '))\n",
    "            matrix = input_matrix(rows,columns)\n",
    "\n",
    "            matrices.append(matrix)\n",
    "\n",
    "            for i,matrix in enumerate(matrices):\n",
    "                print(f\"matrix {i+1}\")\n",
    "                for row in matrix:\n",
    "                    print(row)\n",
    "\n",
    "            addition = mat_add(matrices)\n",
    "\n",
    "\n",
    "        print('After adddition')\n",
    "        for row in addition:\n",
    "            print(row)\n",
    "\n",
    "    except ValueError as e:\n",
    "        print('Invalud input',e)\n",
    "        \n",
    "main()\n"
   ]
  },
  {
   "cell_type": "markdown",
   "id": "f402b8aa",
   "metadata": {},
   "source": [
    "2. Write a Python Program to Multiply Two Matrices?"
   ]
  },
  {
   "cell_type": "code",
   "execution_count": 70,
   "id": "89e487d7",
   "metadata": {},
   "outputs": [
    {
     "name": "stdout",
     "output_type": "stream",
     "text": [
      "Please enter two matrices to multiply as per proper dimensions\n",
      "Enter matrix 1\n",
      "Enter number of rows2\n",
      "Enter number of columns2\n",
      "Enter value (1,1): 1\n",
      "Enter value (1,2): 2\n",
      "Enter value (2,1): 3\n",
      "Enter value (2,2): 4\n",
      "matrix 1\n",
      "[1.0, 2.0]\n",
      "[3.0, 4.0]\n",
      "Enter matrix 2\n",
      "Enter number of rows3\n",
      "Enter number of columns2\n",
      "Enter value (1,1): 1\n",
      "Enter value (1,2): 2\n",
      "Enter value (2,1): 3\n",
      "Enter value (2,2): 4\n",
      "Enter value (3,1): 5\n",
      "Enter value (3,2): 6\n",
      "matrix 1\n",
      "[1.0, 2.0]\n",
      "[3.0, 4.0]\n",
      "matrix 2\n",
      "[1.0, 2.0]\n",
      "[3.0, 4.0]\n",
      "[5.0, 6.0]\n",
      "Invalid input The dimensions do not match to perform matrix multiplication\n"
     ]
    }
   ],
   "source": [
    "def mat_mul(matrices):\n",
    "    num_columns_matrix1 = len(matrices[0][0])\n",
    "    num_rows_matrix1 = len(matrices[0])\n",
    "    num_rows_matrix2 = len(matrices[1])\n",
    "    num_columns_matrix2 = len(matrices[1][0])\n",
    "    \n",
    "    if num_columns_matrix1 != num_rows_matrix2:\n",
    "        raise ValueError('The dimensions do not match to perform matrix multiplication')\n",
    "    \n",
    "    result = [[0 for k in range(num_columns_matrix2)]for p in range(num_rows_matrix1)]\n",
    "    \n",
    "    for i in range(num_rows_matrix1):\n",
    "        for j in range(num_columns_matrix2):\n",
    "            for k in range(num_columns_matrix1):\n",
    "                result[i][j] += matrices[0][i][k] * matrices[1][k][j]\n",
    "    return result\n",
    "\n",
    "def input_matrix(rows,columns):\n",
    "    m = []\n",
    "    \n",
    "    for i in range(rows):\n",
    "        row = []\n",
    "        for j in range(columns):\n",
    "            value = float(input(f'Enter value ({1+i},{1+j}): '))\n",
    "            row.append(value)\n",
    "        m.append(row)\n",
    "    return m\n",
    "\n",
    "\n",
    "def main():\n",
    "    try:\n",
    "        print('Please enter two matrices to multiply as per proper dimensions')\n",
    "        \n",
    "        matrices = []\n",
    "        \n",
    "        for n in range(1,3):\n",
    "            print('Enter matrix',n)\n",
    "            \n",
    "            rows = int(input('Enter number of rows'))\n",
    "            columns = int(input('Enter number of columns'))\n",
    "            \n",
    "            matrix = input_matrix(rows,columns)\n",
    "            \n",
    "            matrices.append(matrix)\n",
    "            \n",
    "            for i,matrix in enumerate(matrices):\n",
    "                print(f'matrix {i+1}')\n",
    "                for row in matrix:\n",
    "                    print(row)\n",
    "        \n",
    "        \n",
    "    \n",
    "        multiply = mat_mul(matrices)\n",
    "\n",
    "        print('After multiplication')\n",
    "\n",
    "        for row in multiply:\n",
    "            print(row)\n",
    "    \n",
    "    except ValueError as e:\n",
    "        print('Invalid input',e)\n",
    "    \n",
    "main()"
   ]
  },
  {
   "cell_type": "markdown",
   "id": "9243cf02",
   "metadata": {},
   "source": [
    "3. Write a Python Program to Transpose a Matrix?"
   ]
  },
  {
   "cell_type": "code",
   "execution_count": 71,
   "id": "a6da3b63",
   "metadata": {},
   "outputs": [
    {
     "name": "stdout",
     "output_type": "stream",
     "text": [
      "Enter number of rows: 2\n",
      "Enter number of colulms: 3\n",
      "Enter value (1,1)1\n",
      "Enter value (1,2)2\n",
      "Enter value (1,3)3\n",
      "Enter value (2,1)4\n",
      "Enter value (2,2)5\n",
      "Enter value (2,3)6\n",
      "The entered matrix is: \n",
      "[1.0, 2.0, 3.0]\n",
      "[4.0, 5.0, 6.0]\n",
      "The transpose is: \n",
      "[1.0, 4.0]\n",
      "[2.0, 5.0]\n",
      "[3.0, 6.0]\n"
     ]
    }
   ],
   "source": [
    "def tran_mat(matrix):\n",
    "    T = [[matrix[j][i] for j in range(len(matrix))]for i in range(len(matrix[0]))]\n",
    "    \n",
    "    return T\n",
    "\n",
    "\n",
    "\n",
    "def input_matrix(rows,columns):\n",
    "    m = []\n",
    "    for i in range(rows):\n",
    "        row = []\n",
    "        for j in range(columns):\n",
    "            value = float(input(f'Enter value ({1+i},{1+j})'))\n",
    "            row.append(value)\n",
    "        m.append(row)\n",
    "        \n",
    "    return m\n",
    "\n",
    "\n",
    "def main():\n",
    "    rows = int(input('Enter number of rows: '))\n",
    "    columns = int(input('Enter number of colulms: '))\n",
    "    \n",
    "    matrix = input_matrix(rows,columns)\n",
    "    \n",
    "    print('The entered matrix is: ')\n",
    "    for row in matrix:\n",
    "        print(row)\n",
    "        \n",
    "    print('The transpose is: ')\n",
    "    \n",
    "    transpose = tran_mat(matrix)\n",
    "    for row in transpose:\n",
    "        print(row)\n",
    "        \n",
    "main()"
   ]
  },
  {
   "cell_type": "markdown",
   "id": "e811207d",
   "metadata": {},
   "source": [
    "4. Write a Python Program to Sort Words in Alphabetic Order?"
   ]
  },
  {
   "cell_type": "code",
   "execution_count": 77,
   "id": "73672e0e",
   "metadata": {},
   "outputs": [
    {
     "name": "stdout",
     "output_type": "stream",
     "text": [
      "Enter a sentence: Hello, This is an amazing day.\n",
      "-----------------------------------------------\n",
      "After sorting the words in alphabetic order: \n",
      "Hello,\n",
      "This\n",
      "amazing\n",
      "an\n",
      "day.\n",
      "is\n"
     ]
    }
   ],
   "source": [
    "sen = input('Enter a sentence: ')\n",
    "\n",
    "sen_splitted = sen.split()\n",
    "\n",
    "sen_splitted.sort()\n",
    "\n",
    "print('-----------------------------------------------')\n",
    "print('After sorting the words in alphabetic order: ')\n",
    "for i in sen_splitted:\n",
    "    print(i)"
   ]
  },
  {
   "cell_type": "markdown",
   "id": "fb3c0bdc",
   "metadata": {},
   "source": [
    "5. Write a Python Program to Remove Punctuation From a String?"
   ]
  },
  {
   "cell_type": "code",
   "execution_count": 83,
   "id": "54c21c62",
   "metadata": {},
   "outputs": [
    {
     "name": "stdout",
     "output_type": "stream",
     "text": [
      "Please enter a sentence consisting some puntuation marks: Yesterday, I woke up early; the sun was shining brightly. I made myself a cup of coffee, sat down on the porch, and listened to the birds singing. It was a peaceful morning!\n",
      "----------------------------\n",
      "After removing puntuation marks: \n",
      "Yesterday I woke up early the sun was shining brightly I made myself a cup of coffee sat down on the porch and listened to the birds singing It was a peaceful morning\n"
     ]
    }
   ],
   "source": [
    "puntuation_marks = ['.',',','/','\"',':',\"'\",\";\",'}','{',']','[','|','\\\\',','!','-','_','...','?']\n",
    "\n",
    "sen = input('Please enter a sentence consisting some puntuation marks: ')\n",
    "                    \n",
    "for i in puntuation_marks:\n",
    "                    if i in sen:\n",
    "                        sen = sen.replace(i,'')\n",
    "                \n",
    "print('----------------------------')\n",
    "print('After removing puntuation marks: ')\n",
    "print(sen)"
   ]
  },
  {
   "cell_type": "code",
   "execution_count": null,
   "id": "2ba1da13",
   "metadata": {},
   "outputs": [],
   "source": []
  }
 ],
 "metadata": {
  "kernelspec": {
   "display_name": "Python 3 (ipykernel)",
   "language": "python",
   "name": "python3"
  },
  "language_info": {
   "codemirror_mode": {
    "name": "ipython",
    "version": 3
   },
   "file_extension": ".py",
   "mimetype": "text/x-python",
   "name": "python",
   "nbconvert_exporter": "python",
   "pygments_lexer": "ipython3",
   "version": "3.9.7"
  }
 },
 "nbformat": 4,
 "nbformat_minor": 5
}
