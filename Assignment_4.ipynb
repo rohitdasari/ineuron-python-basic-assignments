{
 "cells": [
  {
   "cell_type": "markdown",
   "id": "ba99e558",
   "metadata": {},
   "source": [
    "1.What exactly is []?"
   ]
  },
  {
   "cell_type": "markdown",
   "id": "e29bc30e",
   "metadata": {},
   "source": [
    "Ans: [] is reffered as list"
   ]
  },
  {
   "cell_type": "markdown",
   "id": "c839f2b9",
   "metadata": {},
   "source": [
    "2. In a list of values stored in a variable called spam, how would you assign the value &#39;hello&#39; as the\n",
    "third value? (Assume [2, 4, 6, 8, 10] are in spam.)"
   ]
  },
  {
   "cell_type": "code",
   "execution_count": 6,
   "id": "6cbbcccd",
   "metadata": {},
   "outputs": [
    {
     "data": {
      "text/plain": [
       "[2, 4, 'hello', 7, 10]"
      ]
     },
     "execution_count": 6,
     "metadata": {},
     "output_type": "execute_result"
    }
   ],
   "source": [
    "spam = [2,4,6,7,10]\n",
    "spam[2] = 'hello'\n",
    "spam"
   ]
  },
  {
   "cell_type": "markdown",
   "id": "30fca7b7",
   "metadata": {},
   "source": [
    "lets pretend spam includes ['a','b','c','d']"
   ]
  },
  {
   "cell_type": "markdown",
   "id": "f62ce750",
   "metadata": {},
   "source": [
    "3.What is the value of spam[int(int('3' * 2) / 11)]?"
   ]
  },
  {
   "cell_type": "code",
   "execution_count": 7,
   "id": "33489a33",
   "metadata": {},
   "outputs": [],
   "source": [
    "spam = ['a','b','c','d']"
   ]
  },
  {
   "cell_type": "code",
   "execution_count": null,
   "id": "30c97523",
   "metadata": {},
   "outputs": [],
   "source": [
    "Ans: 'd'\n",
    "spam[int(int('3' * 2) / 11)]"
   ]
  },
  {
   "cell_type": "markdown",
   "id": "bd4f1055",
   "metadata": {},
   "source": [
    "4.What is the value of spam[-1]?"
   ]
  },
  {
   "cell_type": "code",
   "execution_count": null,
   "id": "b99320c8",
   "metadata": {},
   "outputs": [],
   "source": [
    "Ans:'d'"
   ]
  },
  {
   "cell_type": "markdown",
   "id": "ab7fa5d7",
   "metadata": {},
   "source": [
    "5.What is the value of spam[:2]?"
   ]
  },
  {
   "cell_type": "code",
   "execution_count": null,
   "id": "ac981b67",
   "metadata": {},
   "outputs": [],
   "source": [
    "Ans: ['a','b']"
   ]
  },
  {
   "cell_type": "markdown",
   "id": "2e4ab0ca",
   "metadata": {},
   "source": [
    "lets pretend bacon includes [3.14,'cat',11,'cat',True]"
   ]
  },
  {
   "cell_type": "code",
   "execution_count": 13,
   "id": "48791833",
   "metadata": {},
   "outputs": [],
   "source": [
    "bacon =  [3.14,'cat',11,'cat',True]"
   ]
  },
  {
   "cell_type": "markdown",
   "id": "6e4b5b5f",
   "metadata": {},
   "source": [
    "6.What is the value of bacon.index('cat')?"
   ]
  },
  {
   "cell_type": "code",
   "execution_count": null,
   "id": "de7166ad",
   "metadata": {},
   "outputs": [],
   "source": [
    "Ans: 1"
   ]
  },
  {
   "cell_type": "markdown",
   "id": "c8d214a9",
   "metadata": {},
   "source": [
    "7.How does bacon.append(99) change the look of the list value in bacon?"
   ]
  },
  {
   "cell_type": "code",
   "execution_count": null,
   "id": "432fa737",
   "metadata": {},
   "outputs": [],
   "source": [
    "Ans: [3.14,'cat',11,'cat',True,99]"
   ]
  },
  {
   "cell_type": "markdown",
   "id": "3f3e25e5",
   "metadata": {},
   "source": [
    "8.How does bacon.remove('cat') change the look of the list in bacon?"
   ]
  },
  {
   "cell_type": "code",
   "execution_count": null,
   "id": "585d00d6",
   "metadata": {},
   "outputs": [],
   "source": [
    "Ans:[3.14,11,'cat',True,99]"
   ]
  },
  {
   "cell_type": "markdown",
   "id": "c5d473d2",
   "metadata": {},
   "source": [
    "9.What are the list concatenation and list replication operators?"
   ]
  },
  {
   "cell_type": "markdown",
   "id": "f8ea775d",
   "metadata": {},
   "source": [
    "Ans: The operator for list concatenation is + whereas the operator for replication is *"
   ]
  },
  {
   "cell_type": "markdown",
   "id": "55d2ac93",
   "metadata": {},
   "source": [
    "10.What is difference between the list methods append() and insert()?"
   ]
  },
  {
   "cell_type": "code",
   "execution_count": null,
   "id": "dcf074c6",
   "metadata": {},
   "outputs": [],
   "source": [
    "Ans: append() adds the desired value at the end of the list whereas insert() adds desired value anywhere"
   ]
  },
  {
   "cell_type": "markdown",
   "id": "9e0ebac4",
   "metadata": {},
   "source": [
    "11.What are the two methods for removing items from a list?"
   ]
  },
  {
   "cell_type": "markdown",
   "id": "640707f2",
   "metadata": {},
   "source": [
    "Ans: remove(),pop() are the methods used to remove items from list"
   ]
  },
  {
   "cell_type": "markdown",
   "id": "e9e33861",
   "metadata": {},
   "source": [
    "12.Describe how list values and string values are identical."
   ]
  },
  {
   "cell_type": "markdown",
   "id": "686a0ea7",
   "metadata": {},
   "source": [
    "Ans: lists and strings are collections of characters in sequence."
   ]
  },
  {
   "cell_type": "markdown",
   "id": "29af3dc9",
   "metadata": {},
   "source": [
    "13.What's the difference between tuples and lists?"
   ]
  },
  {
   "cell_type": "code",
   "execution_count": null,
   "id": "d120931c",
   "metadata": {},
   "outputs": [],
   "source": [
    "Ans: Lists are mutable whereas tuples are immutable"
   ]
  },
  {
   "cell_type": "markdown",
   "id": "d4ba6c26",
   "metadata": {},
   "source": [
    "14.How do you type a tuple value that only contains the integer 42?"
   ]
  },
  {
   "cell_type": "code",
   "execution_count": null,
   "id": "2d45ea15",
   "metadata": {},
   "outputs": [],
   "source": [
    "Ans: tup=(42,)"
   ]
  },
  {
   "cell_type": "markdown",
   "id": "a43c2bc9",
   "metadata": {},
   "source": [
    "15.How do you get a list value's tuple form? How do you get a tuple value's list form?"
   ]
  },
  {
   "cell_type": "markdown",
   "id": "132e6d09",
   "metadata": {},
   "source": [
    "Ans: To get list values in tuple form use tuple() and vice versa to get list values from tuple use list()"
   ]
  },
  {
   "cell_type": "markdown",
   "id": "69f71dc7",
   "metadata": {},
   "source": [
    "16.Variables that 'contain' list values are not necessarily lists themselves. Instead, what do they\n",
    "contain?"
   ]
  },
  {
   "cell_type": "markdown",
   "id": "ce743c16",
   "metadata": {},
   "source": [
    "Ans: They contain references to list values"
   ]
  },
  {
   "cell_type": "markdown",
   "id": "d05e6a9a",
   "metadata": {},
   "source": [
    "17.How do you distinguish between copy.copy() and copy.deepcopy()?"
   ]
  },
  {
   "cell_type": "markdown",
   "id": "cc9856b8",
   "metadata": {},
   "source": [
    "Ans: if you consider .copy() and make any chsnges to the list then the change will reflect in the list directly but when .deepcopy() is used a new reference is created and any changes made will not effect the main list and the changes only reflect in the new reference."
   ]
  }
 ],
 "metadata": {
  "kernelspec": {
   "display_name": "Python 3 (ipykernel)",
   "language": "python",
   "name": "python3"
  },
  "language_info": {
   "codemirror_mode": {
    "name": "ipython",
    "version": 3
   },
   "file_extension": ".py",
   "mimetype": "text/x-python",
   "name": "python",
   "nbconvert_exporter": "python",
   "pygments_lexer": "ipython3",
   "version": "3.9.7"
  }
 },
 "nbformat": 4,
 "nbformat_minor": 5
}
