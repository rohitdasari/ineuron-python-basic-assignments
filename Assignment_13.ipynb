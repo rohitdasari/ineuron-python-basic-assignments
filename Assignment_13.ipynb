{
 "cells": [
  {
   "cell_type": "markdown",
   "id": "bdc693ac",
   "metadata": {},
   "source": [
    "1.What advantages do Excel spreadsheets have over CSV spreadsheets?"
   ]
  },
  {
   "cell_type": "markdown",
   "id": "4483a5a5",
   "metadata": {},
   "source": [
    "Ans: In excel spreadsheets we can have different fonts, sizes or colors for each cell and different width and height and cells can be merged and can add images and charts."
   ]
  },
  {
   "cell_type": "markdown",
   "id": "b0dcef46",
   "metadata": {},
   "source": [
    "2.What do you pass to csv.reader() and csv.writer() to create reader and writer objects?"
   ]
  },
  {
   "cell_type": "code",
   "execution_count": null,
   "id": "0d13b96f",
   "metadata": {},
   "outputs": [],
   "source": [
    "Ans: csv.reader(filename, delimiter)\n",
    "     csv.writer(filename, delimeter)"
   ]
  },
  {
   "cell_type": "markdown",
   "id": "a7aa15ec",
   "metadata": {},
   "source": [
    "3.What modes do File objects for reader and writer objects need to be opened in?"
   ]
  },
  {
   "cell_type": "markdown",
   "id": "644c947c",
   "metadata": {},
   "source": [
    "Ans: For csv.reader() the file object need to be opened in read mode(r) and for csv.writer() the file object must be opened in write mode(w)"
   ]
  },
  {
   "cell_type": "markdown",
   "id": "000a9948",
   "metadata": {},
   "source": [
    "4.What method takes a list argument and writes it to a CSV file?"
   ]
  },
  {
   "cell_type": "markdown",
   "id": "1372bdd5",
   "metadata": {},
   "source": [
    "Ans: To write list argument into CSV file we can use writerow() and writerows() methods. Here writerow() is used to write single row at a time and writerows() is used to write multiple rows at a time."
   ]
  },
  {
   "cell_type": "markdown",
   "id": "ffee61b9",
   "metadata": {},
   "source": [
    "5.What do the keyword arguments delimiter and line terminator do?"
   ]
  },
  {
   "cell_type": "markdown",
   "id": "88ef9c0d",
   "metadata": {},
   "source": [
    "Ans: delimeter is the keyword which takes a character which can be used as a seperator and line terminator is the end of the line which by default is new line."
   ]
  },
  {
   "cell_type": "markdown",
   "id": "c06e0af3",
   "metadata": {},
   "source": [
    "6.What function takes a string of JSON data and returns a Python data structure?"
   ]
  },
  {
   "cell_type": "code",
   "execution_count": null,
   "id": "b0a98ed8",
   "metadata": {},
   "outputs": [],
   "source": [
    "Ans: json.loads()"
   ]
  },
  {
   "cell_type": "markdown",
   "id": "ff546940",
   "metadata": {},
   "source": [
    "7.What function takes a Python data structure and returns a string of JSON data?"
   ]
  },
  {
   "cell_type": "code",
   "execution_count": null,
   "id": "d3f4255c",
   "metadata": {},
   "outputs": [],
   "source": [
    "Ans: json.dumps()"
   ]
  }
 ],
 "metadata": {
  "kernelspec": {
   "display_name": "Python 3 (ipykernel)",
   "language": "python",
   "name": "python3"
  },
  "language_info": {
   "codemirror_mode": {
    "name": "ipython",
    "version": 3
   },
   "file_extension": ".py",
   "mimetype": "text/x-python",
   "name": "python",
   "nbconvert_exporter": "python",
   "pygments_lexer": "ipython3",
   "version": "3.9.7"
  }
 },
 "nbformat": 4,
 "nbformat_minor": 5
}
