{
 "cells": [
  {
   "cell_type": "markdown",
   "id": "760e7b29",
   "metadata": {},
   "source": [
    "1. Write a Python Program to find sum of array?"
   ]
  },
  {
   "cell_type": "code",
   "execution_count": 42,
   "id": "2dd512c4",
   "metadata": {},
   "outputs": [
    {
     "name": "stdout",
     "output_type": "stream",
     "text": [
      "Enter a number of inputs: 6\n",
      "Enter a number: 2.3\n",
      "Enter a number: 356\n",
      "Enter a number: 34\n",
      "Enter a number: 5\n",
      "Enter a number: 12\n",
      "Enter a number: 4\n",
      "[2.3, 356.0, 34.0, 5.0, 12.0, 4.0]\n",
      "413.3\n"
     ]
    }
   ],
   "source": [
    "num = int(input('Enter a number of inputs: '))\n",
    "\n",
    "myarr = []\n",
    "for a in range(num):\n",
    "    i = float(input('Enter a number: '))\n",
    "    myarr.append(i)\n",
    "\n",
    "print(myarr)\n",
    "\n",
    "print(sum(myarr))"
   ]
  },
  {
   "cell_type": "markdown",
   "id": "c836bb94",
   "metadata": {},
   "source": [
    "2. Write a Python Program to find largest element in an array?"
   ]
  },
  {
   "cell_type": "code",
   "execution_count": 43,
   "id": "8c6abfde",
   "metadata": {},
   "outputs": [
    {
     "name": "stdout",
     "output_type": "stream",
     "text": [
      "Enter a number of inputs: 5\n",
      "Enter a number: 34\n",
      "Enter a number: 89\n",
      "Enter a number: 3\n",
      "Enter a number: 67\n",
      "Enter a number: 2\n",
      "The largest element of the array is 89.0\n"
     ]
    }
   ],
   "source": [
    "num = int(input('Enter a number of inputs: '))\n",
    "\n",
    "myarr = []\n",
    "for a in range(num):\n",
    "    i = float(input('Enter a number: '))\n",
    "    myarr.append(i)\n",
    "\n",
    "    \n",
    "def lar_arr(myarr):\n",
    "    if len(myarr)==0:\n",
    "        return 'Empty list'\n",
    "    \n",
    "    largest = myarr[0]\n",
    "    for num in myarr:\n",
    "        if num > largest:\n",
    "            largest = num\n",
    "    return largest\n",
    "\n",
    "result = lar_arr(myarr)\n",
    "print('The largest element of the array is',result)"
   ]
  },
  {
   "cell_type": "markdown",
   "id": "c6114f42",
   "metadata": {},
   "source": [
    "3. Write a Python Program for array rotation?"
   ]
  },
  {
   "cell_type": "code",
   "execution_count": 60,
   "id": "c175f3a3",
   "metadata": {},
   "outputs": [
    {
     "name": "stdout",
     "output_type": "stream",
     "text": [
      "Enter a number of inputs: 5\n",
      "Enter a number: 1\n",
      "Enter a number: 2\n",
      "Enter a number: 3\n",
      "Enter a number: 4\n",
      "Enter a number: 5\n",
      "Before rotation [1.0, 2.0, 3.0, 4.0, 5.0]\n",
      "After rotation [5.0, 4.0, 3.0, 2.0, 1.0]\n"
     ]
    }
   ],
   "source": [
    "num = int(input('Enter a number of inputs: '))\n",
    "\n",
    "myarr = []\n",
    "\n",
    "for a in range(num):\n",
    "    a = float(input('Enter a number: '))\n",
    "    myarr.append(a)\n",
    "print('Before rotation',myarr)\n",
    "\n",
    "def arr_rot(myarr):\n",
    "    rotated_arr = []\n",
    "    for i in reversed(range(len(myarr))):\n",
    "        rotated_arr.append(myarr[i])\n",
    "    return rotated_arr\n",
    "result = arr_rot(myarr)\n",
    "\n",
    "print('After rotation',result)"
   ]
  },
  {
   "cell_type": "markdown",
   "id": "e017ce13",
   "metadata": {},
   "source": [
    "4. Write a Python Program to Split the array and add the first part to the end?"
   ]
  },
  {
   "cell_type": "code",
   "execution_count": 96,
   "id": "8d919ecf",
   "metadata": {},
   "outputs": [
    {
     "name": "stdout",
     "output_type": "stream",
     "text": [
      "Enter a number of inputs: 7\n",
      "Enter a number: 1\n",
      "Enter a number: 2\n",
      "Enter a number: 3\n",
      "Enter a number: 4\n",
      "Enter a number: 5\n",
      "Enter a number: 6\n",
      "Enter a number: 7\n",
      "Before spliting [1.0, 2.0, 3.0, 4.0, 5.0, 6.0, 7.0]\n",
      "After spliting and adding first part to the end [4.0, 5.0, 6.0, 7.0, 1.0, 2.0, 3.0]\n"
     ]
    }
   ],
   "source": [
    "num = int(input('Enter a number of inputs: '))\n",
    "\n",
    "myarr = []\n",
    "\n",
    "for a in range(num):\n",
    "    a = float(input('Enter a number: '))\n",
    "    myarr.append(a)\n",
    "print('Before spliting',myarr)\n",
    "\n",
    "l = len(myarr)\n",
    "\n",
    "l = int(l/2)\n",
    "\n",
    "r = 0\n",
    "myarr2 = []\n",
    "def removeele(myarr):\n",
    "    for i in range(l):\n",
    "        temp = myarr.pop(r)\n",
    "        myarr2.append(temp)\n",
    "    return myarr,myarr2\n",
    "\n",
    "result = removeele(myarr)\n",
    "\n",
    "print('After spliting and adding first part to the end',myarr+myarr2)\n"
   ]
  },
  {
   "cell_type": "markdown",
   "id": "2ce88851",
   "metadata": {},
   "source": [
    "5. Write a Python Program to check if given array is Monotonic?"
   ]
  },
  {
   "cell_type": "code",
   "execution_count": 137,
   "id": "f2627a08",
   "metadata": {},
   "outputs": [
    {
     "name": "stdout",
     "output_type": "stream",
     "text": [
      "Enter a number of inputs: 6\n",
      "Enter a number: 6\n",
      "Enter a number: 5\n",
      "Enter a number: 4\n",
      "Enter a number: 3\n",
      "Enter a number: 2\n",
      "Enter a number: 1\n",
      "The array is monotonic\n"
     ]
    }
   ],
   "source": [
    "num = int(input('Enter a number of inputs: '))\n",
    "\n",
    "myarr = []\n",
    "\n",
    "for a in range(num):\n",
    "    a = float(input('Enter a number: '))\n",
    "    myarr.append(a)\n",
    "\n",
    "\n",
    "def mono(myarr):\n",
    "    increasing = decreasing = True\n",
    "    for i in range(1,len(myarr)):\n",
    "        if myarr[i] >= myarr[i-1]:\n",
    "            decreasing = False\n",
    "            \n",
    "        elif myarr[i] <= myarr[i-1]:\n",
    "            increasing = False\n",
    "        \n",
    "        if not increasing and not decreasing:\n",
    "            return False\n",
    "    return True\n",
    "        \n",
    "result = mono(myarr)\n",
    "\n",
    "if result:\n",
    "    print('The array is monotonic')\n",
    "else:\n",
    "    print('The array is not monotonic')"
   ]
  },
  {
   "cell_type": "code",
   "execution_count": null,
   "id": "93a29192",
   "metadata": {},
   "outputs": [],
   "source": []
  }
 ],
 "metadata": {
  "kernelspec": {
   "display_name": "Python 3 (ipykernel)",
   "language": "python",
   "name": "python3"
  },
  "language_info": {
   "codemirror_mode": {
    "name": "ipython",
    "version": 3
   },
   "file_extension": ".py",
   "mimetype": "text/x-python",
   "name": "python",
   "nbconvert_exporter": "python",
   "pygments_lexer": "ipython3",
   "version": "3.9.7"
  }
 },
 "nbformat": 4,
 "nbformat_minor": 5
}
