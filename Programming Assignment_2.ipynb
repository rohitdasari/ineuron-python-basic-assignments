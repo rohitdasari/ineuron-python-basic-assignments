{
 "cells": [
  {
   "cell_type": "markdown",
   "id": "8b727f0f",
   "metadata": {},
   "source": [
    "1. Write a Python program to convert kilometers to miles?"
   ]
  },
  {
   "cell_type": "code",
   "execution_count": 34,
   "id": "0cc64a59",
   "metadata": {},
   "outputs": [
    {
     "name": "stdout",
     "output_type": "stream",
     "text": [
      "Enter number of kilometers: 20\n",
      "Total number of miles are:  12.42742\n"
     ]
    }
   ],
   "source": [
    "def fun(kms):\n",
    "    mi = 0.621371\n",
    "    miles = kms*mi\n",
    "    return miles\n",
    "    \n",
    "kms = float(input('Enter number of kilometers: ',))\n",
    "print('Total number of miles are: ',fun(kms))"
   ]
  },
  {
   "cell_type": "markdown",
   "id": "7d894fab",
   "metadata": {},
   "source": [
    "2. Write a Python program to convert Celsius to Fahrenheit?"
   ]
  },
  {
   "cell_type": "code",
   "execution_count": 35,
   "id": "6c01882f",
   "metadata": {},
   "outputs": [
    {
     "name": "stdout",
     "output_type": "stream",
     "text": [
      "Enter the celsius temperature: 39.55\n",
      "The Farenheit temperature is:  103.19\n"
     ]
    }
   ],
   "source": [
    "def fun(cel):\n",
    "    fa = 32\n",
    "    farenheit = (cel*1.8)+32\n",
    "    return farenheit\n",
    "\n",
    "cel = float(input('Enter the celsius temperature: ',))\n",
    "print('The Farenheit temperature is: ',fun(cel))"
   ]
  },
  {
   "cell_type": "markdown",
   "id": "6632747b",
   "metadata": {},
   "source": [
    "3. Write a Python program to display calendar?"
   ]
  },
  {
   "cell_type": "code",
   "execution_count": 33,
   "id": "fa695a5e",
   "metadata": {},
   "outputs": [
    {
     "name": "stdout",
     "output_type": "stream",
     "text": [
      "Enter the year: 2023\n",
      "Enter the month number form 1 to 12: 6\n",
      "     June 2023\n",
      "Mo Tu We Th Fr Sa Su\n",
      "          1  2  3  4\n",
      " 5  6  7  8  9 10 11\n",
      "12 13 14 15 16 17 18\n",
      "19 20 21 22 23 24 25\n",
      "26 27 28 29 30\n",
      "\n"
     ]
    }
   ],
   "source": [
    "import calendar\n",
    "\n",
    "year = int(input('Enter the year: ',))\n",
    "\n",
    "\n",
    "try:\n",
    "    month = int(input('Enter the month number form 1 to 12: ',))\n",
    "    if month>=1 and month<=12:\n",
    "        print(calendar.month(year,month))\n",
    "    else:\n",
    "        print('invalid month number')\n",
    "except ValueError:\n",
    "    print('invalid input')\n"
   ]
  },
  {
   "cell_type": "markdown",
   "id": "3468ff8a",
   "metadata": {},
   "source": [
    "4. Write a Python program to solve quadratic equation?"
   ]
  },
  {
   "cell_type": "code",
   "execution_count": 37,
   "id": "fc6ea759",
   "metadata": {},
   "outputs": [
    {
     "name": "stdout",
     "output_type": "stream",
     "text": [
      "Enter a value: 1\n",
      "enter b value: 2\n",
      "enter c value: 5\n",
      "The solutions to the quadratic equations are (-1+2j) and (-1-2j)\n"
     ]
    }
   ],
   "source": [
    "import cmath\n",
    "\n",
    "a = int(input('Enter a value: ',))\n",
    "\n",
    "b = int(input('enter b value: ',))\n",
    "\n",
    "c = int(input('enter c value: ',))\n",
    "\n",
    "disc = (b**2) - (4*a*c)\n",
    "\n",
    "solution1 = (-b + cmath.sqrt(disc))/(2*a)\n",
    "solution2 = (-b - cmath.sqrt(disc))/(2*a)\n",
    "\n",
    "print('The solutions to the quadratic equations are {} and {}'.format(solution1,solution2))"
   ]
  },
  {
   "cell_type": "markdown",
   "id": "dce60fbc",
   "metadata": {},
   "source": [
    "5. Write a Python program to swap two variables without temp variable?"
   ]
  },
  {
   "cell_type": "code",
   "execution_count": 40,
   "id": "6794513b",
   "metadata": {},
   "outputs": [
    {
     "name": "stdout",
     "output_type": "stream",
     "text": [
      "Enter first variable: t\n",
      "enter second variable: j\n",
      "Before swapping the value of first variable is t and second variable is j\n",
      "After swapping the values the first variable is j and second variable is t\n"
     ]
    }
   ],
   "source": [
    "x1 = (input('Enter first variable: ',))\n",
    "x2 = (input('enter second variable: ',))\n",
    "\n",
    "print('Before swapping the value of first variable is {} and second variable is {}'.format(x1,x2))\n",
    "\n",
    "x1,x2 = x2,x1\n",
    "\n",
    "print('After swapping the values the first variable is {} and second variable is {}'.format(x1,x2))"
   ]
  },
  {
   "cell_type": "code",
   "execution_count": null,
   "id": "2ef03cae",
   "metadata": {},
   "outputs": [],
   "source": []
  }
 ],
 "metadata": {
  "kernelspec": {
   "display_name": "Python 3 (ipykernel)",
   "language": "python",
   "name": "python3"
  },
  "language_info": {
   "codemirror_mode": {
    "name": "ipython",
    "version": 3
   },
   "file_extension": ".py",
   "mimetype": "text/x-python",
   "name": "python",
   "nbconvert_exporter": "python",
   "pygments_lexer": "ipython3",
   "version": "3.9.7"
  }
 },
 "nbformat": 4,
 "nbformat_minor": 5
}
