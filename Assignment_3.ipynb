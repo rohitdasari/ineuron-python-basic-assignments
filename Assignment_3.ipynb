{
 "cells": [
  {
   "cell_type": "markdown",
   "id": "159dc250",
   "metadata": {},
   "source": [
    "1.Why are functions advantageous to have in your programs?"
   ]
  },
  {
   "cell_type": "markdown",
   "id": "09d47de1",
   "metadata": {},
   "source": [
    "Ans: The best thing about functions is we can run the code inside function any number of times as needed using the same code work from anywhere by calling it when needed rather than typing the entire code again and again with same functionality, So this can be seen as an advantage."
   ]
  },
  {
   "cell_type": "markdown",
   "id": "5332a70a",
   "metadata": {},
   "source": [
    "2.When does the code in a function run: when it's specified or when it's called?"
   ]
  },
  {
   "cell_type": "markdown",
   "id": "025a4beb",
   "metadata": {},
   "source": [
    "Ans: A code in a function run's when the function is called."
   ]
  },
  {
   "cell_type": "markdown",
   "id": "4a75e81f",
   "metadata": {},
   "source": [
    "3.What statement creates a function?"
   ]
  },
  {
   "cell_type": "markdown",
   "id": "aff0fc68",
   "metadata": {},
   "source": [
    "Ans: def() statement is used to create a function"
   ]
  },
  {
   "cell_type": "markdown",
   "id": "210557d1",
   "metadata": {},
   "source": [
    "4.What is the difference between a function and a function call?"
   ]
  },
  {
   "cell_type": "markdown",
   "id": "1092f52f",
   "metadata": {},
   "source": [
    "Ans: A function contains the code which would perform some specific action and a function call is used to pass control to the function, so the function will execute and perform the required action."
   ]
  },
  {
   "cell_type": "markdown",
   "id": "07e0df94",
   "metadata": {},
   "source": [
    "5.How many global scopes are there in a Python program? How many local scopes?"
   ]
  },
  {
   "cell_type": "markdown",
   "id": "f7892494",
   "metadata": {},
   "source": [
    "Ans: There is one global scope, where as the local scope means the variable is available from inside the region\n",
    "\n",
    "Example: \n",
    "\n",
    "i = 10 \n",
    "\n",
    "def hi():\n",
    "    i = 5\n",
    "    print(i)\n",
    "    \n",
    "explanation: Here calling the function hi() returns the value of i which is 5 as the i value is inside the function scope, but if we casually try to execute i we get the value 10 anywhere in the notebook\n",
    "\n",
    "\n",
    "now consider this block of code where i has been changed to k inside the function, so now upon calling hi(), we will get the value 10, as the i value is being fetched from global scope and there is no other i value present inside the function\n",
    "\n",
    "i = 10 \n",
    "\n",
    "def hi():\n",
    "    k = 5\n",
    "    print(i)"
   ]
  },
  {
   "cell_type": "markdown",
   "id": "0ab942b5",
   "metadata": {},
   "source": [
    "6.What happens to variables in a local scope when the function call returns?"
   ]
  },
  {
   "cell_type": "markdown",
   "id": "0c15468c",
   "metadata": {},
   "source": [
    "Ans: when function returns all the local scope variables are forgotten and local scope is destroyed"
   ]
  },
  {
   "cell_type": "markdown",
   "id": "4a91faf6",
   "metadata": {},
   "source": [
    "7.What is the concept of a return value? Is it possible to have a return value in an expression?"
   ]
  },
  {
   "cell_type": "markdown",
   "id": "e4c262c5",
   "metadata": {},
   "source": [
    "Ans: A return is a value that a function returns upon finishing its action and a return value can be used as a part of an expression too"
   ]
  },
  {
   "cell_type": "markdown",
   "id": "cecebfb7",
   "metadata": {},
   "source": [
    "8.If a function does not have a return statement, what is the return value of a call to that function?"
   ]
  },
  {
   "cell_type": "code",
   "execution_count": null,
   "id": "6e1a75c3",
   "metadata": {},
   "outputs": [],
   "source": [
    "Ans: Incase of no return value a function returns none"
   ]
  },
  {
   "cell_type": "markdown",
   "id": "8cab1c16",
   "metadata": {},
   "source": [
    "9.How do you make a function variable refer to the global variable?"
   ]
  },
  {
   "cell_type": "markdown",
   "id": "3308a2f2",
   "metadata": {},
   "source": [
    "Ans: Using global statement will force a variable in a function to refer to the global variable\n",
    "    \n",
    "Ex: \n",
    "i=10\n",
    "def hi2():\n",
    "    global i\n",
    "    \n",
    "    i=5\n",
    "    print(i)\n",
    "    \n",
    "Here upon calling hi2() we get the output as 5 and even calling i in a seperate block will also return 5 instead of 10"
   ]
  },
  {
   "cell_type": "markdown",
   "id": "4303983d",
   "metadata": {},
   "source": [
    "10.What is the data type of None?"
   ]
  },
  {
   "cell_type": "markdown",
   "id": "1b438ddf",
   "metadata": {},
   "source": [
    "Ans: The datatype of None is NoneType"
   ]
  },
  {
   "cell_type": "markdown",
   "id": "609d4dba",
   "metadata": {},
   "source": [
    "11.What does the sentence import areallyourpetsnamederic do?"
   ]
  },
  {
   "cell_type": "markdown",
   "id": "f03c615c",
   "metadata": {},
   "source": [
    "Ans: we get no module named areallyourpetsnamederic error as this is not a module in python to import"
   ]
  },
  {
   "cell_type": "markdown",
   "id": "e6f1a662",
   "metadata": {},
   "source": [
    "12.If you had a bacon() feature in a spam module, what would you call it after importing spam?"
   ]
  },
  {
   "cell_type": "code",
   "execution_count": null,
   "id": "0e239041",
   "metadata": {},
   "outputs": [],
   "source": [
    "Ans: spam.bacon()"
   ]
  },
  {
   "cell_type": "markdown",
   "id": "9da73ddc",
   "metadata": {},
   "source": [
    "13.What can you do to save a programme from crashing if it encounters an error?"
   ]
  },
  {
   "cell_type": "markdown",
   "id": "c01baffd",
   "metadata": {},
   "source": [
    "Ans: we will use try to save the program from crashing if it encounters an error"
   ]
  },
  {
   "cell_type": "markdown",
   "id": "bcfe5ee1",
   "metadata": {},
   "source": [
    "14.What is the purpose of the try clause? What is the purpose of the except clause?"
   ]
  },
  {
   "cell_type": "markdown",
   "id": "2e147550",
   "metadata": {},
   "source": [
    "Ans: The code that may cause the error will go into try clause, The code that executes if the error happens goes into eexcept clause"
   ]
  }
 ],
 "metadata": {
  "kernelspec": {
   "display_name": "Python 3 (ipykernel)",
   "language": "python",
   "name": "python3"
  },
  "language_info": {
   "codemirror_mode": {
    "name": "ipython",
    "version": 3
   },
   "file_extension": ".py",
   "mimetype": "text/x-python",
   "name": "python",
   "nbconvert_exporter": "python",
   "pygments_lexer": "ipython3",
   "version": "3.9.7"
  }
 },
 "nbformat": 4,
 "nbformat_minor": 5
}
