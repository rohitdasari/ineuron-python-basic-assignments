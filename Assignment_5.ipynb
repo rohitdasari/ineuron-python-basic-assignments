{
 "cells": [
  {
   "cell_type": "markdown",
   "id": "239ac802",
   "metadata": {},
   "source": [
    "1.What does an empty dictionary's code look like?"
   ]
  },
  {
   "cell_type": "code",
   "execution_count": null,
   "id": "09d06383",
   "metadata": {},
   "outputs": [],
   "source": [
    "Ans: {}"
   ]
  },
  {
   "cell_type": "markdown",
   "id": "4497ab8e",
   "metadata": {},
   "source": [
    "2.What is the value of a dictionary value with the key 'foo' and the value 42?"
   ]
  },
  {
   "cell_type": "code",
   "execution_count": null,
   "id": "9f210f9e",
   "metadata": {},
   "outputs": [],
   "source": [
    "Ans: {'foo':42}"
   ]
  },
  {
   "cell_type": "markdown",
   "id": "a2687152",
   "metadata": {},
   "source": [
    "3.What is the most significant distinction between a dictionary and a list?"
   ]
  },
  {
   "cell_type": "markdown",
   "id": "63a69417",
   "metadata": {},
   "source": [
    "Ans: The values in dictionary are stored according to key value pair, So they can be unordered but the values in list are ordered."
   ]
  },
  {
   "cell_type": "markdown",
   "id": "9c1e6237",
   "metadata": {},
   "source": [
    "4.What happens if you try to access spam['foo'] if spam is {'bar': 100}?"
   ]
  },
  {
   "cell_type": "markdown",
   "id": "5c845730",
   "metadata": {},
   "source": [
    "Ans: It will result in a KeyError "
   ]
  },
  {
   "cell_type": "markdown",
   "id": "a5ae29d7",
   "metadata": {},
   "source": [
    "5.If a dictionary is stored in spam, what is the difference between the expressions 'cat' in spam and\n",
    "'cat' in spam.keys()?"
   ]
  },
  {
   "cell_type": "markdown",
   "id": "3dd8740c",
   "metadata": {},
   "source": [
    "Ans: There is no difference, both output True. The in operator checks whether a value exists as a key in dictionary"
   ]
  },
  {
   "cell_type": "markdown",
   "id": "8c3de95b",
   "metadata": {},
   "source": [
    "6.If a dictionary is stored in spam, what is the difference between the expressions 'cat' in spam and\n",
    "'cat' in spam.values()?"
   ]
  },
  {
   "cell_type": "markdown",
   "id": "acc24787",
   "metadata": {},
   "source": [
    "Ans: the expression 'cat' in spam checks if the value exists as key in dictionary and 'cat' in spam.values() checks if the 'cat' is any value for any key in the dictionary spam, returns false if there is no value 'cat'"
   ]
  },
  {
   "cell_type": "markdown",
   "id": "d532736f",
   "metadata": {},
   "source": [
    "7.What is a shortcut for the following code?\n",
    "if 'color' not in spam:\n",
    "      spam['color'] = 'black'"
   ]
  },
  {
   "cell_type": "code",
   "execution_count": null,
   "id": "86b445df",
   "metadata": {},
   "outputs": [],
   "source": [
    "spam.setdefault('color','black')"
   ]
  },
  {
   "cell_type": "markdown",
   "id": "82f3d42b",
   "metadata": {},
   "source": [
    "8.How do you \"pretty print\" dictionary values using which module and function?"
   ]
  },
  {
   "cell_type": "code",
   "execution_count": null,
   "id": "57f3fcbb",
   "metadata": {},
   "outputs": [],
   "source": [
    "Ans: pprint.pprint(dictname)"
   ]
  }
 ],
 "metadata": {
  "kernelspec": {
   "display_name": "Python 3 (ipykernel)",
   "language": "python",
   "name": "python3"
  },
  "language_info": {
   "codemirror_mode": {
    "name": "ipython",
    "version": 3
   },
   "file_extension": ".py",
   "mimetype": "text/x-python",
   "name": "python",
   "nbconvert_exporter": "python",
   "pygments_lexer": "ipython3",
   "version": "3.9.7"
  }
 },
 "nbformat": 4,
 "nbformat_minor": 5
}
