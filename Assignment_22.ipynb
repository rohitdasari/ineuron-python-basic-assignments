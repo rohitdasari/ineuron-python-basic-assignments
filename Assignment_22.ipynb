{
 "cells": [
  {
   "cell_type": "code",
   "execution_count": null,
   "id": "e06daea2",
   "metadata": {},
   "outputs": [],
   "source": [
    "1.What is the result of the code, and explain?\n",
    "\n",
    "X = 'iNeuron'\n",
    "def func():\n",
    "    print(X)\n",
    "\n",
    "func()"
   ]
  },
  {
   "cell_type": "code",
   "execution_count": 1,
   "id": "8e02d33b",
   "metadata": {},
   "outputs": [
    {
     "name": "stdout",
     "output_type": "stream",
     "text": [
      "iNeuron\n"
     ]
    }
   ],
   "source": [
    "X = 'iNeuron'\n",
    "def func():\n",
    "    print(X)\n",
    "\n",
    "func()"
   ]
  },
  {
   "cell_type": "markdown",
   "id": "ce06de6e",
   "metadata": {},
   "source": [
    "Ans: The result of the cods is iNeuron, because we have created a function and  called it and the action inside function was print(X) where X is iNeuron"
   ]
  },
  {
   "cell_type": "code",
   "execution_count": null,
   "id": "b9fa1266",
   "metadata": {},
   "outputs": [],
   "source": [
    "2. What is the result of the code, and explain?\n",
    "\n",
    "X = 'iNeuron'\n",
    "def func():\n",
    "X = 'NI!'\n",
    "\n",
    "func()\n",
    "print(X)"
   ]
  },
  {
   "cell_type": "code",
   "execution_count": 3,
   "id": "c0ce0559",
   "metadata": {},
   "outputs": [
    {
     "name": "stdout",
     "output_type": "stream",
     "text": [
      "iNeuron\n"
     ]
    }
   ],
   "source": [
    "X = 'iNeuron'\n",
    "def func():\n",
    "    X = 'NI!'\n",
    "\n",
    "func()\n",
    "print(X)"
   ]
  },
  {
   "cell_type": "markdown",
   "id": "c5632d4c",
   "metadata": {},
   "source": [
    "Ans: Here we get iNeuron, because there was no return or print done inside the function and only assignment to X was done and that assignment's scope is just inside the function, as we geve X 'iNeuron' outside the function, we got iNeuron as output"
   ]
  },
  {
   "cell_type": "code",
   "execution_count": null,
   "id": "e8ccde8c",
   "metadata": {},
   "outputs": [],
   "source": [
    "3. What does this code print, and why?\n",
    "\n",
    "X = 'iNeuron'\n",
    "def func():\n",
    "     X = 'NI'\n",
    "     print(X)\n",
    "\n",
    "func()\n",
    "print(X)"
   ]
  },
  {
   "cell_type": "code",
   "execution_count": 4,
   "id": "9e1269d3",
   "metadata": {},
   "outputs": [
    {
     "name": "stdout",
     "output_type": "stream",
     "text": [
      "NI\n",
      "iNeuron\n"
     ]
    }
   ],
   "source": [
    "X = 'iNeuron'\n",
    "def func():\n",
    "     X = 'NI'\n",
    "     print(X)\n",
    "\n",
    "func()\n",
    "print(X)"
   ]
  },
  {
   "cell_type": "markdown",
   "id": "55ecd54d",
   "metadata": {},
   "source": [
    "Ans: This prints both NI and iNeuron as we assigned iNeuron outside function and printed it at the end and we assigned NI to X inside function and made a print inside the function so upon calling the function we got NI too."
   ]
  },
  {
   "cell_type": "code",
   "execution_count": null,
   "id": "cb41fcda",
   "metadata": {},
   "outputs": [],
   "source": [
    "4.What output does this code produce? Why?\n",
    "\n",
    "X = 'iNeuron'\n",
    "def func():\n",
    "    global X\n",
    "    X = 'NI'\n",
    "\n",
    "func()\n",
    "print(X)"
   ]
  },
  {
   "cell_type": "code",
   "execution_count": 5,
   "id": "42263b0c",
   "metadata": {},
   "outputs": [
    {
     "name": "stdout",
     "output_type": "stream",
     "text": [
      "NI\n"
     ]
    }
   ],
   "source": [
    "X = 'iNeuron'\n",
    "def func():\n",
    "    global X\n",
    "    X = 'NI'\n",
    "\n",
    "func()\n",
    "print(X)"
   ]
  },
  {
   "cell_type": "markdown",
   "id": "55a19261",
   "metadata": {},
   "source": [
    "Ans: NI because we made X global inside the function, so it can be accessed outside function."
   ]
  },
  {
   "cell_type": "code",
   "execution_count": null,
   "id": "ed32bbba",
   "metadata": {},
   "outputs": [],
   "source": [
    "5. What about this code—what’s the output, and why?\n",
    "\n",
    "X = 'iNeuron'\n",
    "def func():\n",
    "X = 'NI'\n",
    "def nested():\n",
    "    print(X)\n",
    "    nested()\n",
    "\n",
    "func()\n",
    "X"
   ]
  },
  {
   "cell_type": "code",
   "execution_count": 15,
   "id": "c31024af",
   "metadata": {},
   "outputs": [
    {
     "name": "stdout",
     "output_type": "stream",
     "text": [
      "NI\n"
     ]
    },
    {
     "data": {
      "text/plain": [
       "'iNeuron'"
      ]
     },
     "execution_count": 15,
     "metadata": {},
     "output_type": "execute_result"
    }
   ],
   "source": [
    "X = 'iNeuron'\n",
    "def func():\n",
    "    X = 'NI'\n",
    "    def nested():\n",
    "        print(X)\n",
    "    nested()\n",
    "\n",
    "func()\n",
    "X"
   ]
  },
  {
   "cell_type": "markdown",
   "id": "33510fe9",
   "metadata": {},
   "source": [
    "Ans: The output is NI because inside the function func() X is assigned 'NI' and upon calling the nested() function it looks for X and the one right there available in global scope is 'NI' immediately, for suppose if we don't assign 'NI' to X in line 3 then the output would have been 'iNeuron' but this isn't the case, so the output is NI."
   ]
  },
  {
   "cell_type": "code",
   "execution_count": null,
   "id": "d1a9ec8d",
   "metadata": {},
   "outputs": [],
   "source": [
    "6.How about this code: what is its output in Python 3, and explain?\n",
    "    \n",
    "def func():\n",
    "X = 'NI'\n",
    "def nested():\n",
    "    nonlocal X\n",
    "X = 'Spam'\n",
    "nested()\n",
    "print(X)\n",
    "\n",
    "func()"
   ]
  },
  {
   "cell_type": "code",
   "execution_count": 20,
   "id": "4d00361b",
   "metadata": {},
   "outputs": [
    {
     "name": "stdout",
     "output_type": "stream",
     "text": [
      "Spam\n"
     ]
    }
   ],
   "source": [
    "def func():\n",
    "    X = 'NI'\n",
    "    def nested():\n",
    "        nonlocal X\n",
    "        X = 'Spam'\n",
    "    nested()\n",
    "    print(X)\n",
    "\n",
    "func()"
   ]
  },
  {
   "cell_type": "markdown",
   "id": "eb07a998",
   "metadata": {},
   "source": [
    "Ans: The output is Spam as we used nonlocal keyword, So X = 'Spam' is modified in global scope."
   ]
  },
  {
   "cell_type": "code",
   "execution_count": null,
   "id": "3726c1b0",
   "metadata": {},
   "outputs": [],
   "source": []
  }
 ],
 "metadata": {
  "kernelspec": {
   "display_name": "Python 3 (ipykernel)",
   "language": "python",
   "name": "python3"
  },
  "language_info": {
   "codemirror_mode": {
    "name": "ipython",
    "version": 3
   },
   "file_extension": ".py",
   "mimetype": "text/x-python",
   "name": "python",
   "nbconvert_exporter": "python",
   "pygments_lexer": "ipython3",
   "version": "3.9.7"
  }
 },
 "nbformat": 4,
 "nbformat_minor": 5
}
