{
 "cells": [
  {
   "cell_type": "markdown",
   "id": "fade038b",
   "metadata": {},
   "source": [
    "1.Is the Python Standard Library included with PyInputPlus?"
   ]
  },
  {
   "cell_type": "markdown",
   "id": "f8864a42",
   "metadata": {},
   "source": [
    "Ans: No, We must install it seperately using pip install PyInputPlus"
   ]
  },
  {
   "cell_type": "markdown",
   "id": "2b812670",
   "metadata": {},
   "source": [
    "2.Why is PyInputPlus commonly imported with import pyinputplus as pypi?"
   ]
  },
  {
   "cell_type": "markdown",
   "id": "f2bf291b",
   "metadata": {},
   "source": [
    "Ans: We can use pypi instead of PyInputPlus everytime while importing modules related to it"
   ]
  },
  {
   "cell_type": "markdown",
   "id": "65a06ead",
   "metadata": {},
   "source": [
    "3.How do you distinguish between inputInt() and inputFloat()?"
   ]
  },
  {
   "cell_type": "markdown",
   "id": "f4d90c3f",
   "metadata": {},
   "source": [
    "Ans: inputint() requires the user to enter only integer value as input and keeps asking until integer is entered takes parameters like min,max,limit.\n",
    "     inputfloat() takes floating point numeric value, but for example if we give 4 as input it will read it as 4.0 it too takes parameters like min,max,limit."
   ]
  },
  {
   "cell_type": "markdown",
   "id": "5bd54e36",
   "metadata": {},
   "source": [
    "4.Using PyInputPlus, how do you ensure that the user enters a whole number between 0 and 99?"
   ]
  },
  {
   "cell_type": "markdown",
   "id": "42b62893",
   "metadata": {},
   "source": [
    "Ans: we can take it as pyip.inputInt(prompt = \"Enter an int... \",min=0,max=99), so if the user enters any number above 99 the code will let the user know that the max number is 99."
   ]
  },
  {
   "cell_type": "markdown",
   "id": "54807cb0",
   "metadata": {},
   "source": [
    "5.What is transferred to the keyword arguments allowRegexes and blockRegexes?"
   ]
  },
  {
   "cell_type": "markdown",
   "id": "1c949e7a",
   "metadata": {},
   "source": [
    "Ans: we can enter the regex strings in allowRegexes to accept as input and viceversa to block in blockRegexes"
   ]
  },
  {
   "cell_type": "markdown",
   "id": "17f3db9d",
   "metadata": {},
   "source": [
    "6.If a blank input is entered three times, what does inputStr(limit=3) do?"
   ]
  },
  {
   "cell_type": "markdown",
   "id": "f53c42a9",
   "metadata": {},
   "source": [
    "Ans: The program terminates saying RetryLimitException as the limit is only 3 times as determined in pyip.inputStr(limit=3)"
   ]
  },
  {
   "cell_type": "markdown",
   "id": "01d7d0b1",
   "metadata": {},
   "source": [
    "7.If blank input is entered three times, what does inputStr(limit=3, default='hello') do?"
   ]
  },
  {
   "cell_type": "markdown",
   "id": "749bb46b",
   "metadata": {},
   "source": [
    "Ans: After asking for three times the default input will be taken as 'hello' as determined in pyip.inputStr(limit=3, default='hello') "
   ]
  }
 ],
 "metadata": {
  "kernelspec": {
   "display_name": "Python 3 (ipykernel)",
   "language": "python",
   "name": "python3"
  },
  "language_info": {
   "codemirror_mode": {
    "name": "ipython",
    "version": 3
   },
   "file_extension": ".py",
   "mimetype": "text/x-python",
   "name": "python",
   "nbconvert_exporter": "python",
   "pygments_lexer": "ipython3",
   "version": "3.9.7"
  }
 },
 "nbformat": 4,
 "nbformat_minor": 5
}
