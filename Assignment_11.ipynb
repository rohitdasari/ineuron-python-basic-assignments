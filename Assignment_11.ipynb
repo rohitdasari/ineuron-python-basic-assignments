{
 "cells": [
  {
   "cell_type": "markdown",
   "id": "733fbb49",
   "metadata": {},
   "source": [
    "1.Create an assert statement that throws an AssertionError if the variable spam is a negative\n",
    "integer."
   ]
  },
  {
   "cell_type": "code",
   "execution_count": null,
   "id": "c240bfbc",
   "metadata": {},
   "outputs": [],
   "source": [
    "spam =-1\n",
    "assert spam >= 0"
   ]
  },
  {
   "cell_type": "markdown",
   "id": "ae28c3e4",
   "metadata": {},
   "source": [
    "2.Write an assert statement that triggers an AssertionError if the variables eggs and bacon contain\n",
    "strings that are the same as each other, even if their cases are different (that is, 'hello' and 'hello' are\n",
    "considered the same, and 'goodbye' and 'GOODbye' are also considered the same)."
   ]
  },
  {
   "cell_type": "code",
   "execution_count": null,
   "id": "5ec45af2",
   "metadata": {},
   "outputs": [],
   "source": [
    "eggs = input()\n",
    "bacon = input()\n",
    "\n",
    "eggs.lower()\n",
    "bacon.lower()\n",
    "\n",
    "assert eggs.lower() != bacon.lower()"
   ]
  },
  {
   "cell_type": "markdown",
   "id": "2b2fbb97",
   "metadata": {},
   "source": [
    "3.Create an assert statement that throws an AssertionError every time."
   ]
  },
  {
   "cell_type": "code",
   "execution_count": null,
   "id": "2a1f5f87",
   "metadata": {},
   "outputs": [],
   "source": [
    "assert False"
   ]
  },
  {
   "cell_type": "markdown",
   "id": "c23af30d",
   "metadata": {},
   "source": [
    "4.What are the two lines that must be present in your software in order to call logging.debug()?"
   ]
  },
  {
   "cell_type": "code",
   "execution_count": null,
   "id": "fa4038e5",
   "metadata": {},
   "outputs": [],
   "source": [
    "import logging\n",
    "logging.basicConfig(level=logging.DEBUG,format='%(asctime)s %(levelname)s %(message)s')"
   ]
  },
  {
   "cell_type": "markdown",
   "id": "4381d37e",
   "metadata": {},
   "source": [
    "5.What are the two lines that your program must have in order to have logging.debug() send a\n",
    "logging message to a file named programLog.txt?"
   ]
  },
  {
   "cell_type": "code",
   "execution_count": null,
   "id": "7c131f8b",
   "metadata": {},
   "outputs": [],
   "source": [
    "import logging\n",
    "logging.basicConfig(filename='programLog.txt',level=logging.DEBUG,format='%(asctime)s %(levelname)s %(message)s')"
   ]
  },
  {
   "cell_type": "markdown",
   "id": "e10a7ada",
   "metadata": {},
   "source": [
    "6.What are the five levels of logging?"
   ]
  },
  {
   "cell_type": "code",
   "execution_count": null,
   "id": "d7352a4b",
   "metadata": {},
   "outputs": [],
   "source": [
    "DEBUG\n",
    "INFO\n",
    "WARNING\n",
    "ERROR\n",
    "CRITICAL"
   ]
  },
  {
   "cell_type": "markdown",
   "id": "f7f889b7",
   "metadata": {},
   "source": [
    "7.What line of code would you add to your software to disable all logging messages?"
   ]
  },
  {
   "cell_type": "code",
   "execution_count": null,
   "id": "b59b84ce",
   "metadata": {},
   "outputs": [],
   "source": [
    "logging.disable(logging.CRITICAL)"
   ]
  },
  {
   "cell_type": "markdown",
   "id": "35a49400",
   "metadata": {},
   "source": [
    "8.Why is using logging messages better than using print() to display the same message?"
   ]
  },
  {
   "cell_type": "markdown",
   "id": "d3fefaf8",
   "metadata": {},
   "source": [
    "Ans: Because by using logging we can save all these messages into a txt file, Which can be used incase of any issues to check as we can also add timestamp and the kind of logging messages into the file as per needs by removing low levels."
   ]
  },
  {
   "cell_type": "markdown",
   "id": "761088a7",
   "metadata": {},
   "source": [
    "9.What are the differences between the Step Over, Step In, and Step Out buttons in the debugger?"
   ]
  },
  {
   "cell_type": "markdown",
   "id": "9f5567f1",
   "metadata": {},
   "source": [
    "Ans: \n",
    "Step over : It is used to take you to the next line of the code and steps over the current line of code even there is a function, The function is executed as single step without the cursor going into the function and the cursor moves to the next line of the function call.\n",
    "\n",
    "Step in : It is used to get into the function and debug the function step line by line when the function gets called.\n",
    "\n",
    "Step out : It is execute the rest of the function until the scope is ended and gets out of the function."
   ]
  },
  {
   "cell_type": "markdown",
   "id": "1eb6ccc9",
   "metadata": {},
   "source": [
    "10.After you click Continue, when will the debugger stop ?"
   ]
  },
  {
   "cell_type": "markdown",
   "id": "aa6efafe",
   "metadata": {},
   "source": [
    "Ans: Continue stops at breakpoints or at the end of the program"
   ]
  },
  {
   "cell_type": "markdown",
   "id": "91daca5e",
   "metadata": {},
   "source": [
    "11.What is the concept of a breakpoint?"
   ]
  },
  {
   "cell_type": "code",
   "execution_count": null,
   "id": "eb484f3f",
   "metadata": {},
   "outputs": [],
   "source": [
    "Ans: An option when the program reaches that line which causes the debugger to pause."
   ]
  }
 ],
 "metadata": {
  "kernelspec": {
   "display_name": "Python 3 (ipykernel)",
   "language": "python",
   "name": "python3"
  },
  "language_info": {
   "codemirror_mode": {
    "name": "ipython",
    "version": 3
   },
   "file_extension": ".py",
   "mimetype": "text/x-python",
   "name": "python",
   "nbconvert_exporter": "python",
   "pygments_lexer": "ipython3",
   "version": "3.9.7"
  }
 },
 "nbformat": 4,
 "nbformat_minor": 5
}
