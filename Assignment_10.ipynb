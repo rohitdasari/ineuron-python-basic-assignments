{
 "cells": [
  {
   "cell_type": "markdown",
   "id": "6c111257",
   "metadata": {},
   "source": [
    "1.How do you distinguish between shutil.copy() and shutil.copytree()?"
   ]
  },
  {
   "cell_type": "markdown",
   "id": "bfd3f647",
   "metadata": {},
   "source": [
    "Ans: shutil.copy() is used to copy the content of source file to destination file by preserving the file permission mode but not the metadata.\n",
    "     shutil.copytree() is used to copy the entire directory from source to destination directory. The destination directory must be a new one which will be created during copying."
   ]
  },
  {
   "cell_type": "markdown",
   "id": "f30acf72",
   "metadata": {},
   "source": [
    "2.What function is used to rename files?"
   ]
  },
  {
   "cell_type": "markdown",
   "id": "ecef4ce4",
   "metadata": {},
   "source": [
    "Ans: os.rename(oldname,newname) is used to rename files"
   ]
  },
  {
   "cell_type": "markdown",
   "id": "2796147d",
   "metadata": {},
   "source": [
    "3.What is the difference between the delete functions in the send2trash and shutil modules?"
   ]
  },
  {
   "cell_type": "markdown",
   "id": "4a8c0495",
   "metadata": {},
   "source": [
    "Ans: send2trash will move the files to recycle bin instead of deleting them whereas shutil.rmtree will delete an entire directory completely its files and subdirectories."
   ]
  },
  {
   "cell_type": "markdown",
   "id": "96f2995d",
   "metadata": {},
   "source": [
    "4.ZipFile objects have a close() method just like File objects’ close() method. What ZipFile method is\n",
    "equivalent to File objects’ open() method?"
   ]
  },
  {
   "cell_type": "markdown",
   "id": "654f293a",
   "metadata": {},
   "source": [
    "Ans: zipfile.ZipFile(filename,mode) is equivalent to file objects open() method."
   ]
  },
  {
   "cell_type": "markdown",
   "id": "6021a471",
   "metadata": {},
   "source": [
    "5.Create a programme that searches a folder tree for files with a certain file extension (such as .pdf\n",
    "or .jpg). Copy these files from whatever location they are in to a new folder."
   ]
  },
  {
   "cell_type": "code",
   "execution_count": null,
   "id": "594b2b95",
   "metadata": {},
   "outputs": [],
   "source": [
    "import shutil\n",
    "import os\n",
    "\n",
    "source_path = input('enter source path with single quotes',)\n",
    "\n",
    "source_path_final = eval(source_path)\n",
    "\n",
    "destination_path = input('enter destination path with single quotes',)\n",
    "\n",
    "dest_path_final = eval(destination_path)\n",
    "\n",
    "def copyfilesfun():\n",
    "    for filename in os.listdir(path_final):\n",
    "        if filename.endswith('.pdf'):\n",
    "            pdffile = source_path_final +'/'+ filename\n",
    "            destfilepdf = dest_path_final +'/'+ filename\n",
    "            shutil.copy(pdffile,destfilepdf)\n",
    "        elif filename.endswith('.jpg'):\n",
    "              pdffile = source_path_final +'/'+ filename\n",
    "              destfilepdf = dest_path_final +'/'+ filename\n",
    "              shutil.copy(pdffile,destfilepdf)\n",
    "copyfilesfun()   "
   ]
  }
 ],
 "metadata": {
  "kernelspec": {
   "display_name": "Python 3 (ipykernel)",
   "language": "python",
   "name": "python3"
  },
  "language_info": {
   "codemirror_mode": {
    "name": "ipython",
    "version": 3
   },
   "file_extension": ".py",
   "mimetype": "text/x-python",
   "name": "python",
   "nbconvert_exporter": "python",
   "pygments_lexer": "ipython3",
   "version": "3.9.7"
  }
 },
 "nbformat": 4,
 "nbformat_minor": 5
}
