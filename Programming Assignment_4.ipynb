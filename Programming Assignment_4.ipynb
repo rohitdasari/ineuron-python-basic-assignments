{
 "cells": [
  {
   "cell_type": "markdown",
   "id": "912c65d8",
   "metadata": {},
   "source": [
    "1. Write a Python Program to Find the Factorial of a Number?"
   ]
  },
  {
   "cell_type": "code",
   "execution_count": 1,
   "id": "8b408bc6",
   "metadata": {},
   "outputs": [
    {
     "name": "stdout",
     "output_type": "stream",
     "text": [
      "Enter a number: 5\n",
      "120\n"
     ]
    }
   ],
   "source": [
    "num = int(input('Enter a number: '))\n",
    "\n",
    "for i in reversed(range(1,num)):\n",
    "    num = num*i\n",
    "print(num)"
   ]
  },
  {
   "cell_type": "markdown",
   "id": "071a35c8",
   "metadata": {},
   "source": [
    "2. Write a Python Program to Display the multiplication Table?"
   ]
  },
  {
   "cell_type": "code",
   "execution_count": 2,
   "id": "712afe49",
   "metadata": {},
   "outputs": [
    {
     "name": "stdout",
     "output_type": "stream",
     "text": [
      "Enter a number: 6\n",
      "6 x 1 = 6\n",
      "6 x 2 = 12\n",
      "6 x 3 = 18\n",
      "6 x 4 = 24\n",
      "6 x 5 = 30\n",
      "6 x 6 = 36\n",
      "6 x 7 = 42\n",
      "6 x 8 = 48\n",
      "6 x 9 = 54\n",
      "6 x 10 = 60\n"
     ]
    }
   ],
   "source": [
    "num = int(input('Enter a number: '))\n",
    "\n",
    "for i in range(1,11):\n",
    "    print(num,'x',i,'=',num*i)"
   ]
  },
  {
   "cell_type": "markdown",
   "id": "ea066aee",
   "metadata": {},
   "source": [
    "3. Write a Python Program to Print the Fibonacci sequence?"
   ]
  },
  {
   "cell_type": "code",
   "execution_count": 3,
   "id": "c4a8dd31",
   "metadata": {},
   "outputs": [
    {
     "name": "stdout",
     "output_type": "stream",
     "text": [
      "Enter a number: 7\n",
      "0\n",
      "1\n",
      "1\n",
      "2\n",
      "3\n",
      "5\n",
      "8\n"
     ]
    }
   ],
   "source": [
    "num = int(input('Enter a number: '))\n",
    "i = 0\n",
    "num1 = 0\n",
    "num2 = 1\n",
    "\n",
    "if num == 1:\n",
    "    print(num1)\n",
    "    \n",
    "else:\n",
    "    print(num1)\n",
    "    print(num2)\n",
    "    for i in range(1,num-1):\n",
    "        temp = num1+num2\n",
    "        num1 = num2\n",
    "        num2 = temp\n",
    "        print(temp)"
   ]
  },
  {
   "cell_type": "markdown",
   "id": "9a81847d",
   "metadata": {},
   "source": [
    "4. Write a Python Program to Check Armstrong Number?"
   ]
  },
  {
   "cell_type": "code",
   "execution_count": 4,
   "id": "b3169e53",
   "metadata": {},
   "outputs": [
    {
     "name": "stdout",
     "output_type": "stream",
     "text": [
      "Enter a number: 153\n",
      "number is amstrong\n"
     ]
    }
   ],
   "source": [
    "num = int(input('Enter a number: '))\n",
    "\n",
    "total = 0\n",
    "temp = num\n",
    "\n",
    "while temp > 0:\n",
    "    dig = temp % 10\n",
    "    cube = dig ** 3\n",
    "    total = total + cube\n",
    "    divi = temp//10\n",
    "    temp = divi\n",
    "    \n",
    "if total == num:\n",
    "        print('number is amstrong')\n",
    "else: \n",
    "    print('number is not amstrong')"
   ]
  },
  {
   "cell_type": "markdown",
   "id": "765fd0f5",
   "metadata": {},
   "source": [
    "5. Write a Python Program to Find Armstrong Number in an Interval?"
   ]
  },
  {
   "cell_type": "code",
   "execution_count": 5,
   "id": "83a3bd5d",
   "metadata": {},
   "outputs": [
    {
     "name": "stdout",
     "output_type": "stream",
     "text": [
      "enter starting number: 1\n",
      "enter ending number: 200\n"
     ]
    },
    {
     "data": {
      "text/plain": [
       "[1, 2, 3, 4, 5, 6, 7, 8, 9, 153]"
      ]
     },
     "execution_count": 5,
     "metadata": {},
     "output_type": "execute_result"
    }
   ],
   "source": [
    "def amstrong_num_interval(start,end):\n",
    "    num_list = []\n",
    "    \n",
    "    for n in range(start,end+1):\n",
    "        num_str = str(n)\n",
    "        dig = len(num_str)\n",
    "        total = 0\n",
    "        for digit in num_str:\n",
    "            total = total + int(digit)**dig\n",
    "        if total == n:\n",
    "            num_list.append(n)\n",
    "            \n",
    "    return num_list\n",
    "\n",
    "start = int(input('enter starting number: '))\n",
    "end = int(input('enter ending number: '))\n",
    "\n",
    "amstrong_num_interval(start,end)"
   ]
  },
  {
   "cell_type": "markdown",
   "id": "d82d2a4a",
   "metadata": {},
   "source": [
    "6. Write a Python Program to Find the Sum of Natural Numbers?"
   ]
  },
  {
   "cell_type": "code",
   "execution_count": 6,
   "id": "3af51c27",
   "metadata": {},
   "outputs": [
    {
     "name": "stdout",
     "output_type": "stream",
     "text": [
      "Enter the number of natural numbers sum you want: 3\n"
     ]
    },
    {
     "data": {
      "text/plain": [
       "6"
      ]
     },
     "execution_count": 6,
     "metadata": {},
     "output_type": "execute_result"
    }
   ],
   "source": [
    "def total(n):\n",
    "    if n< 0:\n",
    "        print('Please enter positive number')\n",
    "    else:\n",
    "        count = (n*(n+1))//2\n",
    "        return count\n",
    "    \n",
    "n = int(input('Enter the number of natural numbers sum you want: '))\n",
    "total(n)"
   ]
  },
  {
   "cell_type": "code",
   "execution_count": null,
   "id": "9ab8f785",
   "metadata": {},
   "outputs": [],
   "source": []
  }
 ],
 "metadata": {
  "kernelspec": {
   "display_name": "Python 3 (ipykernel)",
   "language": "python",
   "name": "python3"
  },
  "language_info": {
   "codemirror_mode": {
    "name": "ipython",
    "version": 3
   },
   "file_extension": ".py",
   "mimetype": "text/x-python",
   "name": "python",
   "nbconvert_exporter": "python",
   "pygments_lexer": "ipython3",
   "version": "3.9.7"
  }
 },
 "nbformat": 4,
 "nbformat_minor": 5
}
