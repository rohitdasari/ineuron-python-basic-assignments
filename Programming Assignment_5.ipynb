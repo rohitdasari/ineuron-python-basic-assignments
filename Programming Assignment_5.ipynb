{
 "cells": [
  {
   "cell_type": "markdown",
   "id": "49ef15aa",
   "metadata": {},
   "source": [
    "1. Write a Python Program to Find LCM?"
   ]
  },
  {
   "cell_type": "code",
   "execution_count": 3,
   "id": "e0d3deae",
   "metadata": {},
   "outputs": [
    {
     "name": "stdout",
     "output_type": "stream",
     "text": [
      "Enter first number: 66\n",
      "Enter second number: 77\n",
      "LCM of 66 and 77 is 462\n"
     ]
    }
   ],
   "source": [
    "def lcm(num1,num2):\n",
    "    if num1>num2:\n",
    "        higher = num1\n",
    "    else:\n",
    "        higher = num2\n",
    "        \n",
    "    value = higher \n",
    "    \n",
    "    while True:\n",
    "    \n",
    "        if higher%num1 == 0 and higher%num2 == 0:\n",
    "            print('LCM of',num1,'and',num2,'is',higher)\n",
    "            break\n",
    "        else:\n",
    "            higher = higher + value\n",
    "\n",
    "\n",
    "num1 = int(input('Enter first number: '))\n",
    "num2 = int(input('Enter second number: '))\n",
    "\n",
    "lcm(num1,num2)"
   ]
  },
  {
   "cell_type": "markdown",
   "id": "6d12cc2d",
   "metadata": {},
   "source": [
    "2. Write a Python Program to Find HCF?"
   ]
  },
  {
   "cell_type": "code",
   "execution_count": 8,
   "id": "f3c9465e",
   "metadata": {},
   "outputs": [
    {
     "name": "stdout",
     "output_type": "stream",
     "text": [
      "Enter number 1: 64\n",
      "Enter number 2: 48\n",
      "The HCF of 64 and 48 is 16\n"
     ]
    }
   ],
   "source": [
    "def HCF(num1,num2):\n",
    "    if num2 == 0:\n",
    "        return num1\n",
    "    else:\n",
    "        return HCF(num2,num1%num2)\n",
    "    \n",
    "num1 = int(input('Enter number 1: '))\n",
    "num2 = int(input('Enter number 2: '))\n",
    "\n",
    "print('The HCF of',num1,'and',num2,'is',HCF(num1,num2))"
   ]
  },
  {
   "cell_type": "markdown",
   "id": "6f16c0cf",
   "metadata": {},
   "source": [
    "3. Write a Python Program to Convert Decimal to Binary, Octal and Hexadecimal?"
   ]
  },
  {
   "cell_type": "code",
   "execution_count": 13,
   "id": "4204a8e2",
   "metadata": {},
   "outputs": [
    {
     "name": "stdout",
     "output_type": "stream",
     "text": [
      "Enter a number: 22\n",
      "For the entered number 22 the binary is 0b10110 the octal is 0o26 the hexadecimal is 0x16\n"
     ]
    }
   ],
   "source": [
    "def conversion(number):\n",
    "    binary = bin(number)\n",
    "    octal = oct(number)\n",
    "    hexadecimal = hex(number)\n",
    "    \n",
    "    return binary,octal,hexadecimal\n",
    "\n",
    "number = int(input('Enter a number: '))\n",
    "\n",
    "binary,octal,hexadecimal = conversion(number)\n",
    "\n",
    "print('For the entered number',number,'the binary is',binary,'the octal is',octal,'the hexadecimal is',hexadecimal)"
   ]
  },
  {
   "cell_type": "markdown",
   "id": "49ff2a84",
   "metadata": {},
   "source": [
    "4. Write a Python Program To Find ASCII value of a character?"
   ]
  },
  {
   "cell_type": "code",
   "execution_count": 18,
   "id": "67a13661",
   "metadata": {},
   "outputs": [
    {
     "name": "stdout",
     "output_type": "stream",
     "text": [
      "Enter a charater to find ascii value a\n",
      "The ASCII value for the character a is 97\n"
     ]
    }
   ],
   "source": [
    "def convert(character):\n",
    "    asciivalue = ord(character)\n",
    "    return asciivalue\n",
    "\n",
    "character = input('Enter a charater to find ascii value ')\n",
    "\n",
    "asciivalue = convert(character)\n",
    "\n",
    "print('The ASCII value for the character',character,'is',asciivalue)"
   ]
  },
  {
   "cell_type": "markdown",
   "id": "da8b9438",
   "metadata": {},
   "source": [
    "5. Write a Python Program to Make a Simple Calculator with 4 basic mathematical operations?"
   ]
  },
  {
   "cell_type": "code",
   "execution_count": 28,
   "id": "570cee4f",
   "metadata": {},
   "outputs": [
    {
     "name": "stdout",
     "output_type": "stream",
     "text": [
      "Enter number 1: 2\n",
      "Enter number 2: 5\n",
      "choose an operation from below:\n",
      "1:Addition\n",
      "2:Subtraction\n",
      "3:Multiplication\n",
      "4:Division\n",
      "Enter your operation number from 1 to 4: 4\n",
      "0.4\n"
     ]
    }
   ],
   "source": [
    "def add(num1,num2):\n",
    "    return num1+num2\n",
    "\n",
    "def sub(num1,num2):\n",
    "    return num1-num2\n",
    "\n",
    "def mul(num1,num2):\n",
    "    return num1*num2\n",
    "\n",
    "def div(num1,num2):\n",
    "    if num2 != 0:\n",
    "        return num1/num2\n",
    "    else:\n",
    "        return 'Divison by zero is not possible'\n",
    "    \n",
    "    \n",
    "\n",
    "    \n",
    "number_1 = float(input('Enter number 1: '))\n",
    "number_2 = float(input('Enter number 2: '))\n",
    "    \n",
    "print('choose an operation from below:')\n",
    "\n",
    "print('1:Addition')\n",
    "print('2:Subtraction')\n",
    "print('3:Multiplication')\n",
    "print('4:Division')\n",
    "\n",
    "option = int(input('Enter your operation number from 1 to 4: '))\n",
    "\n",
    "\n",
    "if option == 1:\n",
    "    print(add(number_1,number_2))\n",
    "    \n",
    "    \n",
    "elif option == 2:\n",
    "    print(sub(number_1,number_2))\n",
    "    \n",
    "elif option == 3:\n",
    "    print(mul(number_1,number_2))\n",
    "    \n",
    "elif option == 4:\n",
    "    print(div(number_1,number_2))\n",
    "    \n",
    "else:\n",
    "    print('please enter valid operation')\n",
    "    \n"
   ]
  },
  {
   "cell_type": "code",
   "execution_count": null,
   "id": "50f42997",
   "metadata": {},
   "outputs": [],
   "source": []
  }
 ],
 "metadata": {
  "kernelspec": {
   "display_name": "Python 3 (ipykernel)",
   "language": "python",
   "name": "python3"
  },
  "language_info": {
   "codemirror_mode": {
    "name": "ipython",
    "version": 3
   },
   "file_extension": ".py",
   "mimetype": "text/x-python",
   "name": "python",
   "nbconvert_exporter": "python",
   "pygments_lexer": "ipython3",
   "version": "3.9.7"
  }
 },
 "nbformat": 4,
 "nbformat_minor": 5
}
