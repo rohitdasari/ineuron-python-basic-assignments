{
 "cells": [
  {
   "cell_type": "markdown",
   "id": "4b4e5c25",
   "metadata": {},
   "source": [
    "1.What is the relationship between def statements and lambda expressions ?"
   ]
  },
  {
   "cell_type": "markdown",
   "id": "218cae54",
   "metadata": {},
   "source": [
    "Ans: Def is used to writed functions in a typical more than one liner where logic is written in the below lines where def is placed after the function header\n",
    "\n",
    "Lambda is a one line function, where the whole logic is written in one line. so they can maintain only one expression rather than many even though that one logic can be implemented as typical def model function."
   ]
  },
  {
   "cell_type": "markdown",
   "id": "c2df9dd6",
   "metadata": {},
   "source": [
    "2.What is the benefit of lambda?"
   ]
  },
  {
   "cell_type": "code",
   "execution_count": null,
   "id": "b9be8955",
   "metadata": {},
   "outputs": [],
   "source": [
    "Ans: They can be written in only one line, so they can execute faster."
   ]
  },
  {
   "cell_type": "markdown",
   "id": "c9ad6e6a",
   "metadata": {},
   "source": [
    "3.Compare and contrast map, filter, and reduce."
   ]
  },
  {
   "cell_type": "markdown",
   "id": "a1f4c4c5",
   "metadata": {},
   "source": [
    "Ans: \n",
    "\n",
    "map() : It is used to apply a given function to the given elements of an iterable and it will return the results after applying the required function to all the elements.\n",
    "\n",
    "syntax : map(function, iterable)\n",
    "\n",
    "filter() : It is used to filter the elements from a given iterable only for those elements where given function is True, So only those elements are returned which are True for the given function.\n",
    "\n",
    "syntax : filter(function, iterable)\n",
    "\n",
    "reduce() : It is used to apply a function to all the elements and returning a single value after performing the function on the iterable. It is imported from functools module.\n",
    "\n",
    "syntax : reduce(function, iterable)"
   ]
  },
  {
   "cell_type": "markdown",
   "id": "93924388",
   "metadata": {},
   "source": [
    "4. What are function annotations, and how are they used?"
   ]
  },
  {
   "cell_type": "markdown",
   "id": "a8edf896",
   "metadata": {},
   "source": [
    "Ans: These are optional parameters for the parameter names inside the function, It tells about the type of the parameter used in the function and the expected type of the outputs. These are defined using ':'. These are evaluated at compile time.\n",
    "\n",
    "def functionname(parameter : parameter type)\n",
    "\n",
    "example: def multiply(one: float, two: int) -> float:\n",
    "                return one * two\n",
    "    \n",
    "result = multiply(4.0,7)\n",
    "print(result)\n",
    "\n",
    "\n",
    "FYI : we can check the annotations for the above functions using the code print(multiply.__annotations__)"
   ]
  },
  {
   "cell_type": "markdown",
   "id": "1d03bbd7",
   "metadata": {},
   "source": [
    "5. What are recursive functions, and how are they used?"
   ]
  },
  {
   "cell_type": "markdown",
   "id": "615a22e2",
   "metadata": {},
   "source": [
    "Ans: When a function calls itself during execution then it is called recursive function. It has two conditions and they are base condition and recursive condition. When the base condition is fulfilled then recursion is ended. This base condition is used to stop from infinite loops.\n",
    "\n",
    "example: A factorial program\n",
    "\n",
    "def factorial(x):\n",
    "\n",
    "    if x == 1:\n",
    "    \n",
    "        return 1\n",
    "        \n",
    "    else: \n",
    "    \n",
    "        return x * factorial(x-1)\n",
    "        \n",
    "number = 5\n",
    "print(factorial(number))\n",
    "        \n",
    "Here base condition is the line if x==1 and recursive condition is in else block which is n * factorial(n-1) as it calls the factorial function again until n value is 1."
   ]
  },
  {
   "cell_type": "markdown",
   "id": "cdbd61bc",
   "metadata": {},
   "source": [
    "6. What are some general design guidelines for coding functions?"
   ]
  },
  {
   "cell_type": "markdown",
   "id": "453fdfef",
   "metadata": {},
   "source": [
    "Ans: \n",
    "\n",
    "-> The function name if we are using a custom function then the name shouldn't be a predefined function name like sum,map etc..\n",
    "\n",
    "-> use def infront of the function name and ':' at the end of the function decleration line.\n",
    "\n",
    "-> maintain proper indentation as this might even give error or give wrong output and using whitespaces will make them look clean.\n",
    "\n",
    "-> use recursive finctions if needed for better simplicity and avoid duplicate functions.\n",
    "\n",
    "-> make sure to use the function parameters as per requirement and using default parameters might be simple.\n",
    "\n",
    "-> make sure to define the return value of the function properly.\n",
    "\n",
    "-> After creating do test the function to check if it is working as required."
   ]
  },
  {
   "cell_type": "markdown",
   "id": "231fd0fd",
   "metadata": {},
   "source": [
    "7. Name three or more ways that functions can communicate results to a caller."
   ]
  },
  {
   "cell_type": "markdown",
   "id": "f1bf71f2",
   "metadata": {},
   "source": [
    "Ans: \n",
    "    \n",
    "return : The return statement is used to send values to the caller either directly or via a variable.\n",
    "\n",
    "exceptions : Functions can be used to raise exceptions to indicate the error and the user can catch them and handle them.\n",
    "\n",
    "generators : functions defined as generators can return multiple values which the caller can iterate over using iterable options like loops while dealing with large sequence of values. 'yield' keyword is used for generators."
   ]
  }
 ],
 "metadata": {
  "kernelspec": {
   "display_name": "Python 3 (ipykernel)",
   "language": "python",
   "name": "python3"
  },
  "language_info": {
   "codemirror_mode": {
    "name": "ipython",
    "version": 3
   },
   "file_extension": ".py",
   "mimetype": "text/x-python",
   "name": "python",
   "nbconvert_exporter": "python",
   "pygments_lexer": "ipython3",
   "version": "3.9.7"
  }
 },
 "nbformat": 4,
 "nbformat_minor": 5
}
