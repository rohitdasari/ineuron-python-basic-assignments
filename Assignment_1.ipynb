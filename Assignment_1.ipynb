{
 "cells": [
  {
   "cell_type": "markdown",
   "id": "84ff9b09",
   "metadata": {},
   "source": [
    "# First question"
   ]
  },
  {
   "cell_type": "markdown",
   "id": "b50ca903",
   "metadata": {},
   "source": [
    "1. In the below elements which of them are values or an expression? eg:- values can be\n",
    "integer or string and expressions will be mathematical operators.\n",
    "*\n",
    "'hello'\n",
    "-87.8\n",
    "-\n",
    "/\n",
    "+\n",
    "6"
   ]
  },
  {
   "cell_type": "markdown",
   "id": "ad681a79",
   "metadata": {},
   "source": [
    "Values: 'hello',-87.8,6\n",
    "Expressions: *,-,/,+"
   ]
  },
  {
   "cell_type": "markdown",
   "id": "b28dcbdf",
   "metadata": {},
   "source": [
    "# second question"
   ]
  },
  {
   "cell_type": "markdown",
   "id": "4d9bacf5",
   "metadata": {},
   "source": [
    "2. What is the difference between string and variable?"
   ]
  },
  {
   "cell_type": "markdown",
   "id": "40c74536",
   "metadata": {},
   "source": [
    "Ans: A string is immutable whereas a variable is mutable "
   ]
  },
  {
   "cell_type": "markdown",
   "id": "042ef43e",
   "metadata": {},
   "source": [
    "# Third question"
   ]
  },
  {
   "cell_type": "markdown",
   "id": "3426b5f8",
   "metadata": {},
   "source": [
    "3. Describe three different data types."
   ]
  },
  {
   "cell_type": "markdown",
   "id": "ec55e66f",
   "metadata": {},
   "source": [
    "Ans: 1)int\n",
    "     2)float\n",
    "     3)str"
   ]
  },
  {
   "cell_type": "markdown",
   "id": "fbe6fe9c",
   "metadata": {},
   "source": [
    "# Fourth question"
   ]
  },
  {
   "cell_type": "markdown",
   "id": "e20e4840",
   "metadata": {},
   "source": [
    "4. What is an expression made up of? What do all expressions do?"
   ]
  },
  {
   "cell_type": "markdown",
   "id": "7903482f",
   "metadata": {},
   "source": [
    "Ans: An expression is made up of operators and operands(operand is object on which an acton is performed \n",
    "with the help of operators), The expression code obtains some result.\n",
    "\n",
    "a = 1+2\n",
    "\n",
    "Here a = variable, 1,2 are operands and + is operator"
   ]
  },
  {
   "cell_type": "markdown",
   "id": "74a9fa52",
   "metadata": {},
   "source": [
    "# Fifth question"
   ]
  },
  {
   "cell_type": "markdown",
   "id": "449edee2",
   "metadata": {},
   "source": [
    "5. This assignment statements, like spam = 10. What is the difference between an\n",
    "expression and a statement?"
   ]
  },
  {
   "cell_type": "markdown",
   "id": "3e827cb4",
   "metadata": {},
   "source": [
    "Ans: If a result is obtained/printed using interpretor of python then it can be called an expresssion(ex:5+5) which consists of operators,literals, A statement is something we created which would represent a value(ex:spam = 10) like a variable directly"
   ]
  },
  {
   "cell_type": "markdown",
   "id": "d0ef361b",
   "metadata": {},
   "source": [
    "# Sixth question"
   ]
  },
  {
   "cell_type": "markdown",
   "id": "debd51dd",
   "metadata": {},
   "source": [
    "6. After running the following code, what does the variable bacon contain?\n",
    "bacon = 22\n",
    "bacon + 1"
   ]
  },
  {
   "cell_type": "code",
   "execution_count": null,
   "id": "05db5e76",
   "metadata": {},
   "outputs": [],
   "source": [
    "Ans: 22"
   ]
  },
  {
   "cell_type": "markdown",
   "id": "0f0d0abd",
   "metadata": {},
   "source": [
    "# Seventh question"
   ]
  },
  {
   "cell_type": "markdown",
   "id": "48153995",
   "metadata": {},
   "source": [
    "7. What should the values of the following two terms be?\n",
    "'spam' + 'spamspam'\n",
    "'spam' * 3"
   ]
  },
  {
   "cell_type": "code",
   "execution_count": null,
   "id": "811268cb",
   "metadata": {},
   "outputs": [],
   "source": [
    "Ans: 'spamspamspam'"
   ]
  },
  {
   "cell_type": "markdown",
   "id": "46473200",
   "metadata": {},
   "source": [
    "# eigth question"
   ]
  },
  {
   "cell_type": "markdown",
   "id": "3bc4758d",
   "metadata": {},
   "source": [
    "8. Why is eggs a valid variable name while 100 is invalid?"
   ]
  },
  {
   "cell_type": "markdown",
   "id": "bb0be4ff",
   "metadata": {},
   "source": [
    "Ans: variable names cannot begin with integer, we will receive 'cannot assign to literal' message"
   ]
  },
  {
   "cell_type": "markdown",
   "id": "ff8bf93e",
   "metadata": {},
   "source": [
    "# ninth question"
   ]
  },
  {
   "cell_type": "markdown",
   "id": "68699cc4",
   "metadata": {},
   "source": [
    "9. What three functions can be used to get the integer, floating-point number, or string\n",
    "version of a value?"
   ]
  },
  {
   "cell_type": "markdown",
   "id": "8b8c97c3",
   "metadata": {},
   "source": [
    "Ans: int()\n",
    "     float()\n",
    "     str()"
   ]
  },
  {
   "cell_type": "markdown",
   "id": "af6fb552",
   "metadata": {},
   "source": [
    "# Tenth question"
   ]
  },
  {
   "cell_type": "markdown",
   "id": "bcc1f6c6",
   "metadata": {},
   "source": [
    "10. Why does this expression cause an error? How can you fix it?\n",
    "'I have eaten' + 99 + 'burritos.'"
   ]
  },
  {
   "cell_type": "code",
   "execution_count": null,
   "id": "630199b4",
   "metadata": {},
   "outputs": [],
   "source": [
    "Ans:\"I have eaten' + 99 + 'burritos.\""
   ]
  }
 ],
 "metadata": {
  "kernelspec": {
   "display_name": "Python 3 (ipykernel)",
   "language": "python",
   "name": "python3"
  },
  "language_info": {
   "codemirror_mode": {
    "name": "ipython",
    "version": 3
   },
   "file_extension": ".py",
   "mimetype": "text/x-python",
   "name": "python",
   "nbconvert_exporter": "python",
   "pygments_lexer": "ipython3",
   "version": "3.9.7"
  }
 },
 "nbformat": 4,
 "nbformat_minor": 5
}
