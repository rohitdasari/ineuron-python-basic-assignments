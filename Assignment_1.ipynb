{
 "cells": [
  {
   "cell_type": "markdown",
   "id": "3f3f5fdb",
   "metadata": {},
   "source": [
    "# First question"
   ]
  },
  {
   "cell_type": "markdown",
   "id": "7070889d",
   "metadata": {},
   "source": [
    "1. In the below elements which of them are values or an expression? eg:- values can be\n",
    "integer or string and expressions will be mathematical operators.\n",
    "*\n",
    "'hello'\n",
    "-87.8\n",
    "-\n",
    "/\n",
    "+\n",
    "6"
   ]
  },
  {
   "cell_type": "markdown",
   "id": "2c29a3eb",
   "metadata": {},
   "source": [
    "Values: 'hello',-87.8,6\n",
    "Expressions: *,-,/,+"
   ]
  },
  {
   "cell_type": "markdown",
   "id": "115e160e",
   "metadata": {},
   "source": [
    "# second question"
   ]
  },
  {
   "cell_type": "markdown",
   "id": "893d18a6",
   "metadata": {},
   "source": [
    "2. What is the difference between string and variable?"
   ]
  },
  {
   "cell_type": "markdown",
   "id": "33898d3a",
   "metadata": {},
   "source": [
    "Ans: A string is immutable whereas a variable is mutable "
   ]
  },
  {
   "cell_type": "markdown",
   "id": "e6b542bc",
   "metadata": {},
   "source": [
    "# Third question"
   ]
  },
  {
   "cell_type": "markdown",
   "id": "419a3602",
   "metadata": {},
   "source": [
    "3. Describe three different data types."
   ]
  },
  {
   "cell_type": "markdown",
   "id": "53c2384b",
   "metadata": {},
   "source": [
    "Ans: 1)numeric(int,float)\n",
    "     2)string(str)\n",
    "     3)boolean(bool)"
   ]
  },
  {
   "cell_type": "markdown",
   "id": "c98abf9f",
   "metadata": {},
   "source": [
    "# Fourth question"
   ]
  },
  {
   "cell_type": "markdown",
   "id": "0daec112",
   "metadata": {},
   "source": [
    "4. What is an expression made up of? What do all expressions do?"
   ]
  },
  {
   "cell_type": "markdown",
   "id": "1309e2eb",
   "metadata": {},
   "source": [
    "Ans: An expression is made up of operators and operands(operand is object on which an acton is performed \n",
    "with the help of operators), The expression code obtains some result.\n",
    "\n",
    "a = 1+2\n",
    "\n",
    "Here a = variable, 1,2 are operands and + is operator"
   ]
  },
  {
   "cell_type": "markdown",
   "id": "6327f585",
   "metadata": {},
   "source": [
    "# Fifth question"
   ]
  },
  {
   "cell_type": "markdown",
   "id": "e86d5669",
   "metadata": {},
   "source": [
    "5. This assignment statements, like spam = 10. What is the difference between an\n",
    "expression and a statement?"
   ]
  },
  {
   "cell_type": "markdown",
   "id": "a76740f5",
   "metadata": {},
   "source": [
    "Ans: If a result is obtained/printed using interpretor of python then it can be called an expresssion(ex:5+5) which consists of operators,literals, A statement is something we created which would represent a value(ex:spam = 10) like a variable directly"
   ]
  },
  {
   "cell_type": "markdown",
   "id": "b0f80b1d",
   "metadata": {},
   "source": [
    "# Sixth question"
   ]
  },
  {
   "cell_type": "markdown",
   "id": "e49a40a5",
   "metadata": {},
   "source": [
    "6. After running the following code, what does the variable bacon contain?\n",
    "bacon = 22\n",
    "bacon + 1"
   ]
  },
  {
   "cell_type": "code",
   "execution_count": null,
   "id": "a1a28bc7",
   "metadata": {},
   "outputs": [],
   "source": [
    "Ans: 22"
   ]
  },
  {
   "cell_type": "markdown",
   "id": "31d0f649",
   "metadata": {},
   "source": [
    "# Seventh question"
   ]
  },
  {
   "cell_type": "markdown",
   "id": "4ad8c236",
   "metadata": {},
   "source": [
    "7. What should the values of the following two terms be?\n",
    "'spam' + 'spamspam'\n",
    "'spam' * 3"
   ]
  },
  {
   "cell_type": "code",
   "execution_count": null,
   "id": "f9b623b0",
   "metadata": {},
   "outputs": [],
   "source": [
    "Ans: 'spamspamspam'"
   ]
  },
  {
   "cell_type": "markdown",
   "id": "37def920",
   "metadata": {},
   "source": [
    "# eigth question"
   ]
  },
  {
   "cell_type": "markdown",
   "id": "2d91c2f7",
   "metadata": {},
   "source": [
    "8. Why is eggs a valid variable name while 100 is invalid?"
   ]
  },
  {
   "cell_type": "markdown",
   "id": "12995d8c",
   "metadata": {},
   "source": [
    "Ans: variable names cannot begin with integer, we will receive 'cannot assign to literal' message"
   ]
  },
  {
   "cell_type": "markdown",
   "id": "ba3412ba",
   "metadata": {},
   "source": [
    "# ninth question"
   ]
  },
  {
   "cell_type": "markdown",
   "id": "b120641c",
   "metadata": {},
   "source": [
    "9. What three functions can be used to get the integer, floating-point number, or string\n",
    "version of a value?"
   ]
  },
  {
   "cell_type": "markdown",
   "id": "88b7cb9c",
   "metadata": {},
   "source": [
    "Ans: int()\n",
    "     float()\n",
    "     str()"
   ]
  },
  {
   "cell_type": "markdown",
   "id": "b152a1c7",
   "metadata": {},
   "source": [
    "# Tenth question"
   ]
  },
  {
   "cell_type": "markdown",
   "id": "62d14e3c",
   "metadata": {},
   "source": [
    "10. Why does this expression cause an error? How can you fix it?\n",
    "'I have eaten' + 99 + 'burritos.'"
   ]
  },
  {
   "cell_type": "code",
   "execution_count": null,
   "id": "31c1685d",
   "metadata": {},
   "outputs": [],
   "source": [
    "Ans:\"I have eaten' + 99 + 'burritos.\""
   ]
  }
 ],
 "metadata": {
  "kernelspec": {
   "display_name": "Python 3 (ipykernel)",
   "language": "python",
   "name": "python3"
  },
  "language_info": {
   "codemirror_mode": {
    "name": "ipython",
    "version": 3
   },
   "file_extension": ".py",
   "mimetype": "text/x-python",
   "name": "python",
   "nbconvert_exporter": "python",
   "pygments_lexer": "ipython3",
   "version": "3.9.7"
  }
 },
 "nbformat": 4,
 "nbformat_minor": 5
}
