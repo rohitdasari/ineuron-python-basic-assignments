{
 "cells": [
  {
   "cell_type": "code",
   "execution_count": 97,
   "id": "40d74287",
   "metadata": {},
   "outputs": [],
   "source": [
    "import datetime\n",
    "import os"
   ]
  },
  {
   "cell_type": "markdown",
   "id": "cdd92c4c",
   "metadata": {},
   "source": [
    "1.Add the current date to the text file today.txt as a string."
   ]
  },
  {
   "cell_type": "code",
   "execution_count": 88,
   "id": "53961c14",
   "metadata": {},
   "outputs": [],
   "source": [
    "from datetime import datetime\n",
    "date = datetime.now().date()\n",
    "\n",
    "\n",
    "date = str(date)\n",
    "with open('today.txt','w') as f:\n",
    "    f.write(date)"
   ]
  },
  {
   "cell_type": "markdown",
   "id": "3d4701b8",
   "metadata": {},
   "source": [
    "2.Read the text file today.txt into the string today_string"
   ]
  },
  {
   "cell_type": "code",
   "execution_count": 89,
   "id": "e6d35be3",
   "metadata": {},
   "outputs": [
    {
     "name": "stdout",
     "output_type": "stream",
     "text": [
      "2023-02-05\n"
     ]
    }
   ],
   "source": [
    "with open('today.txt','r') as f:\n",
    "    today_string = f.read()\n",
    "    print(today_string)"
   ]
  },
  {
   "cell_type": "markdown",
   "id": "6d84e7a1",
   "metadata": {},
   "source": [
    "3.Parse the date from today_string."
   ]
  },
  {
   "cell_type": "code",
   "execution_count": 96,
   "id": "d5929a41",
   "metadata": {},
   "outputs": [
    {
     "name": "stdout",
     "output_type": "stream",
     "text": [
      "2023-02-05 00:00:00\n"
     ]
    }
   ],
   "source": [
    "parsed_date = datetime.strptime(today_string,'%Y-%m-%d')\n",
    "print(parsed_date)\n",
    "\n"
   ]
  },
  {
   "cell_type": "markdown",
   "id": "47980666",
   "metadata": {},
   "source": [
    "4.List the files in your current directory"
   ]
  },
  {
   "cell_type": "code",
   "execution_count": 110,
   "id": "22be235a",
   "metadata": {},
   "outputs": [
    {
     "name": "stdout",
     "output_type": "stream",
     "text": [
      "Assignment_2.ipynb\n",
      "Assignment_13.ipynb\n",
      "Assignment_11.ipynb\n",
      "Assignment_4.ipynb\n",
      ".DS_Store\n",
      "Assignment_15.ipynb\n",
      "Assignment_17.ipynb\n",
      "Assignment_6.ipynb\n",
      "Assignment_10.ipynb\n",
      "today.txt\n",
      "Assignment_1.ipynb\n",
      "Assignment_3.ipynb\n",
      "rough.ipynb\n",
      "zoo.py\n",
      "Assignment_12.ipynb\n",
      "Assignment_16.ipynb\n",
      "Assignment_7.ipynb\n",
      "Assignment_5.ipynb\n",
      "Assignment_14.ipynb\n",
      "Assignment_18.ipynb\n",
      "Assignment_9.ipynb\n",
      "books.csv\n",
      "Assignment_21.ipynb\n",
      "test.txt\n",
      "Assignment_19.ipynb\n",
      "Assignment_8.ipynb\n",
      "books.db\n",
      "hello.docx\n",
      "Assignment_20.ipynb\n",
      "zoo.cpython-39.pyc\n",
      "Assignment_21-checkpoint.ipynb\n",
      "Assignment_4-checkpoint.ipynb\n",
      "Assignment_14-checkpoint.ipynb\n",
      "Assignment_10-checkpoint.ipynb\n",
      "Assignment_20-checkpoint.ipynb\n",
      "Assignment_15-checkpoint.ipynb\n",
      "Assignment_5-checkpoint.ipynb\n",
      "Assignment_1-checkpoint.ipynb\n",
      "Assignment_11-checkpoint.ipynb\n",
      "Assignment_16-checkpoint.ipynb\n",
      "Assignment_6-checkpoint.ipynb\n",
      "rough-checkpoint.ipynb\n",
      "Assignment_9-checkpoint.ipynb\n",
      "Assignment_19-checkpoint.ipynb\n",
      "Assignment_2-checkpoint.ipynb\n",
      "Assignment_12-checkpoint.ipynb\n",
      "Assignment_7-checkpoint.ipynb\n",
      "Assignment_17-checkpoint.ipynb\n",
      "Assignment_18-checkpoint.ipynb\n",
      "Assignment_8-checkpoint.ipynb\n",
      "Assignment_13-checkpoint.ipynb\n",
      "Assignment_3-checkpoint.ipynb\n"
     ]
    }
   ],
   "source": [
    "for folders,subfolders,files in os.walk(os.getcwd()):\n",
    "    for file in files:\n",
    "        print(file)"
   ]
  },
  {
   "cell_type": "markdown",
   "id": "74ed4380",
   "metadata": {},
   "source": [
    "5.Create a list of all of the files in your parent directory (minimum five files should be available)."
   ]
  },
  {
   "cell_type": "code",
   "execution_count": 143,
   "id": "1c48993b",
   "metadata": {},
   "outputs": [
    {
     "data": {
      "text/plain": [
       "['.DS_Store', 'today.txt', 'zoo.py', 'books.csv', 'test.txt']"
      ]
     },
     "execution_count": 143,
     "metadata": {},
     "output_type": "execute_result"
    }
   ],
   "source": [
    "li = []\n",
    "cwd = os.getcwd()\n",
    "pd = os.path.abspath(os.path.join(cwd,os.pardir))\n",
    "files = os.listdir(pd)\n",
    "for f in files:\n",
    "    if os.path.isfile(pd+'/'+f):\n",
    "       # file = f\n",
    "        #print(f)\n",
    "        li.append(f)\n",
    "        \n",
    "li"
   ]
  },
  {
   "cell_type": "markdown",
   "id": "70f0af17",
   "metadata": {},
   "source": [
    "6.Use multiprocessing to create three separate processes. Make each one wait a random number of\n",
    "seconds between one and five, print the current time, and then exit."
   ]
  },
  {
   "cell_type": "code",
   "execution_count": null,
   "id": "9af38f18",
   "metadata": {},
   "outputs": [],
   "source": [
    "#got output in atom IDE\n",
    "\n",
    "import random,multiprocessing,time,datetime\n",
    "\n",
    "\n",
    "def random_time():\n",
    "    random_delay=random.randint(1,5)\n",
    "    time.sleep(random_delay)\n",
    "    print(f'random_delay:{random_delay},datetime:{datetime.datetime.now()}')\n",
    "\n",
    "\n",
    "if __name__ == '__main__':\n",
    "    p1 = multiprocessing.Process(target=random_time)\n",
    "    p2 = multiprocessing.Process(target=random_time)\n",
    "    p3 = multiprocessing.Process(target=random_time)\n",
    "    print('start time',datetime.datetime.now())\n",
    "\n",
    "    p1.start()\n",
    "    p2.start()\n",
    "    p3.start()\n",
    "\n",
    " '''   \n",
    "start time 2023-02-05 17:22:39.980438\n",
    "random_delay:3,datetime:2023-02-05 17:22:43.086070\n",
    "random_delay:5,datetime:2023-02-05 17:22:45.076542\n",
    "random_delay:5,datetime:2023-02-05 17:22:45.085325\n",
    "'''"
   ]
  },
  {
   "cell_type": "markdown",
   "id": "70a16f57",
   "metadata": {},
   "source": [
    "7.Create a date object of your day of birth."
   ]
  },
  {
   "cell_type": "code",
   "execution_count": 175,
   "id": "e4cdb592",
   "metadata": {},
   "outputs": [
    {
     "name": "stdout",
     "output_type": "stream",
     "text": [
      "1999-01-11\n"
     ]
    }
   ],
   "source": [
    "from datetime import datetime\n",
    "dob = datetime.strptime('11-01-1999','%d-%m-%Y')\n",
    "print(dob.date())"
   ]
  },
  {
   "cell_type": "markdown",
   "id": "602bcca3",
   "metadata": {},
   "source": [
    "8.What day of the week was your day of birth?"
   ]
  },
  {
   "cell_type": "code",
   "execution_count": 182,
   "id": "e3ccf08e",
   "metadata": {},
   "outputs": [
    {
     "data": {
      "text/plain": [
       "'Monday'"
      ]
     },
     "execution_count": 182,
     "metadata": {},
     "output_type": "execute_result"
    }
   ],
   "source": [
    "dob.strftime('%A')"
   ]
  },
  {
   "cell_type": "markdown",
   "id": "a692daa5",
   "metadata": {},
   "source": [
    "9.When will you be (or when were you) 10,000 days old?"
   ]
  },
  {
   "cell_type": "code",
   "execution_count": 187,
   "id": "42454154",
   "metadata": {},
   "outputs": [
    {
     "name": "stdout",
     "output_type": "stream",
     "text": [
      "2026-05-29\n"
     ]
    }
   ],
   "source": [
    "from datetime import timedelta\n",
    "old = dob + timedelta(days=10000)\n",
    "print(old.date())"
   ]
  },
  {
   "cell_type": "code",
   "execution_count": null,
   "id": "41532487",
   "metadata": {},
   "outputs": [],
   "source": []
  }
 ],
 "metadata": {
  "kernelspec": {
   "display_name": "Python 3 (ipykernel)",
   "language": "python",
   "name": "python3"
  },
  "language_info": {
   "codemirror_mode": {
    "name": "ipython",
    "version": 3
   },
   "file_extension": ".py",
   "mimetype": "text/x-python",
   "name": "python",
   "nbconvert_exporter": "python",
   "pygments_lexer": "ipython3",
   "version": "3.9.7"
  }
 },
 "nbformat": 4,
 "nbformat_minor": 5
}
