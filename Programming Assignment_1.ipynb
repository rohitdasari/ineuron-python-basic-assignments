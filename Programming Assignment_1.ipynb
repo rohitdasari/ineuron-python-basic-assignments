{
 "cells": [
  {
   "cell_type": "markdown",
   "id": "f94ff58e",
   "metadata": {},
   "source": [
    "1. Write a Python program to print \"Hello Python\"?"
   ]
  },
  {
   "cell_type": "code",
   "execution_count": 1,
   "id": "ee0483d6",
   "metadata": {},
   "outputs": [
    {
     "name": "stdout",
     "output_type": "stream",
     "text": [
      "Hello Python\n"
     ]
    }
   ],
   "source": [
    "print(\"Hello Python\")"
   ]
  },
  {
   "cell_type": "markdown",
   "id": "3bda1d1b",
   "metadata": {},
   "source": [
    "2. Write a Python program to do arithmetical operations addition and division.?"
   ]
  },
  {
   "cell_type": "code",
   "execution_count": 8,
   "id": "92348d28",
   "metadata": {},
   "outputs": [
    {
     "name": "stdout",
     "output_type": "stream",
     "text": [
      "Enter a number: 6.2\n",
      "Enter b number: 2\n",
      "Addition of the numbers is:  8.2\n",
      "division of the numbers is:  3.1\n"
     ]
    }
   ],
   "source": [
    "a = float(input('Enter a number: ',))\n",
    "b = float(input('Enter b number: ',))\n",
    "\n",
    "print('Addition of the numbers is: ',a+b)\n",
    "print('division of the numbers is: ',a/b)"
   ]
  },
  {
   "cell_type": "markdown",
   "id": "dacb885a",
   "metadata": {},
   "source": [
    "3. Write a Python program to find the area of a triangle?"
   ]
  },
  {
   "cell_type": "code",
   "execution_count": 9,
   "id": "4f744fe4",
   "metadata": {},
   "outputs": [
    {
     "name": "stdout",
     "output_type": "stream",
     "text": [
      "Please enter base of the traingle: 3\n",
      "please enter the height of the triangle: 6\n",
      "Area of the triangle is: 9.0\n"
     ]
    }
   ],
   "source": [
    "base = float(input('Please enter base of the traingle: ',))\n",
    "height = float(input('please enter the height of the triangle: ',))\n",
    "\n",
    "print('Area of the triangle is:', (base*height)/2)"
   ]
  },
  {
   "cell_type": "markdown",
   "id": "895915b4",
   "metadata": {},
   "source": [
    "4. Write a Python program to swap two variables?"
   ]
  },
  {
   "cell_type": "code",
   "execution_count": 10,
   "id": "cc90382f",
   "metadata": {},
   "outputs": [
    {
     "name": "stdout",
     "output_type": "stream",
     "text": [
      "enter variable 1: 6\n",
      "enter variable 2: 3\n",
      "after swapping variable 1 is:  3\n",
      "after swapping variable 2 is:  6\n"
     ]
    }
   ],
   "source": [
    "var_1 = input('enter variable 1: ')\n",
    "var_2 = input('enter variable 2: ')\n",
    "temp = var_1\n",
    "var_1 = var_2\n",
    "var_2 = temp\n",
    "\n",
    "print('after swapping variable 1 is: ',var_1)\n",
    "print('after swapping variable 2 is: ',var_2)"
   ]
  },
  {
   "cell_type": "markdown",
   "id": "dd0000a5",
   "metadata": {},
   "source": [
    "5. Write a Python program to generate a random number?"
   ]
  },
  {
   "cell_type": "code",
   "execution_count": 57,
   "id": "4d78d5ba",
   "metadata": {},
   "outputs": [
    {
     "data": {
      "text/plain": [
       "0.9810526578486845"
      ]
     },
     "execution_count": 57,
     "metadata": {},
     "output_type": "execute_result"
    }
   ],
   "source": [
    "import numpy as np\n",
    "np.random.rand()"
   ]
  },
  {
   "cell_type": "code",
   "execution_count": null,
   "id": "e3a7f7a8",
   "metadata": {},
   "outputs": [],
   "source": []
  }
 ],
 "metadata": {
  "kernelspec": {
   "display_name": "Python 3 (ipykernel)",
   "language": "python",
   "name": "python3"
  },
  "language_info": {
   "codemirror_mode": {
    "name": "ipython",
    "version": 3
   },
   "file_extension": ".py",
   "mimetype": "text/x-python",
   "name": "python",
   "nbconvert_exporter": "python",
   "pygments_lexer": "ipython3",
   "version": "3.9.7"
  }
 },
 "nbformat": 4,
 "nbformat_minor": 5
}
