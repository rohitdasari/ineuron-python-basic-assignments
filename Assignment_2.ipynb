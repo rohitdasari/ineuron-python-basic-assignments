{
 "cells": [
  {
   "cell_type": "markdown",
   "id": "e9a65ef4",
   "metadata": {},
   "source": [
    "# First question"
   ]
  },
  {
   "cell_type": "markdown",
   "id": "cd839637",
   "metadata": {},
   "source": [
    "1.What are the two values of the Boolean data type? How do you write them?"
   ]
  },
  {
   "cell_type": "markdown",
   "id": "3f0c5928",
   "metadata": {},
   "source": [
    "Ans: True and False are two boolean data types. The value 0 can be considered as false and 1 can be considered\n",
    "     as true they can be written as False == 0 and True == 1"
   ]
  },
  {
   "cell_type": "markdown",
   "id": "1d4c4d49",
   "metadata": {},
   "source": [
    "# Second question"
   ]
  },
  {
   "cell_type": "markdown",
   "id": "ff05fb59",
   "metadata": {},
   "source": [
    "2.What are the three different types of Boolean operators?"
   ]
  },
  {
   "cell_type": "code",
   "execution_count": null,
   "id": "d972620c",
   "metadata": {},
   "outputs": [],
   "source": [
    "Ans: and, or, not"
   ]
  },
  {
   "cell_type": "markdown",
   "id": "12966d45",
   "metadata": {},
   "source": [
    "# Third question"
   ]
  },
  {
   "cell_type": "markdown",
   "id": "022b6f4d",
   "metadata": {},
   "source": [
    "3.Make a list of each Boolean operator's truth tables (i.e. every possible combination of Boolean\n",
    "values for the operator and what it evaluate )."
   ]
  },
  {
   "cell_type": "code",
   "execution_count": null,
   "id": "a5716ffc",
   "metadata": {},
   "outputs": [],
   "source": [
    "and -> x and y ( True if both are true) ( example: 5>4 and 6>5 )\n",
    "or  -> x or y  ( True if any one value is true) ( example: 5>4 or 6>7)\n",
    "not -> not x   (True only if false) ( example: not ( 3 < 1 ))\n",
    "\n",
    "True and True -> True\n",
    "True and False -> False\n",
    "False and True -> False\n",
    "False and False -> False\n",
    "\n",
    "True or True -> True\n",
    "True or False -> True\n",
    "False or True -> True\n",
    "False or False -> False\n",
    "\n",
    "not True -> False\n",
    "not False -> True"
   ]
  },
  {
   "cell_type": "markdown",
   "id": "7b3c9fd3",
   "metadata": {},
   "source": [
    "# Fourth question"
   ]
  },
  {
   "cell_type": "markdown",
   "id": "a18578a6",
   "metadata": {},
   "source": [
    "4.What are the values of the following expressions?\n",
    "(5 > 4) and (3 == 5)\n",
    "not (5 > 4)\n",
    "(5 > 4) or (3 == 5)\n",
    "not ((5 > 4) or (3 == 5))\n",
    "(True and True) and (True == False)\n",
    "(not False) or (not True)"
   ]
  },
  {
   "cell_type": "markdown",
   "id": "9ceb3b3d",
   "metadata": {},
   "source": [
    "Ans : \n",
    "(5 > 4) and (3 == 5) -> False\n",
    "not (5 > 4) -> False\n",
    "(5 > 4) or (3 == 5) -> True\n",
    "not ((5 > 4) or (3 == 5)) -> False\n",
    "(True and True) and (True == False) -> False\n",
    "(not False) or (not True) -> True"
   ]
  },
  {
   "cell_type": "markdown",
   "id": "833901d5",
   "metadata": {},
   "source": [
    "# Fifth question"
   ]
  },
  {
   "cell_type": "markdown",
   "id": "48ee96ec",
   "metadata": {},
   "source": [
    "5.What are the six comparison operators?"
   ]
  },
  {
   "cell_type": "markdown",
   "id": "2455c3db",
   "metadata": {},
   "source": [
    "Ans: >(greater than),<(less than),>=(greater than or equal to),<=(less than or equal to),==(equal to),!=(not equal)"
   ]
  },
  {
   "cell_type": "markdown",
   "id": "8005a90a",
   "metadata": {},
   "source": [
    "# Sixth question"
   ]
  },
  {
   "cell_type": "markdown",
   "id": "1bd4c3e0",
   "metadata": {},
   "source": [
    "6.How do you tell the difference between the equal to and assignment operators?Describe a\n",
    "condition and when you would use one."
   ]
  },
  {
   "cell_type": "markdown",
   "id": "fe041d1b",
   "metadata": {},
   "source": [
    "Ans: Assignment operator is '=' and equal to operator is '==', Assignment operator is used to assign a value \n",
    "    while equal to operator is used to compare\n",
    "    \n",
    "Ex:\n",
    " a = 10 (assignment operator)\n",
    " a == 10(equal to operator) ( The output will be True as we are checking if a is equal to 10 and it will be 10\n",
    " because we have assigned the value 10 to a)"
   ]
  },
  {
   "cell_type": "markdown",
   "id": "2a737b26",
   "metadata": {},
   "source": [
    "# Seventh question"
   ]
  },
  {
   "cell_type": "markdown",
   "id": "6c2ce428",
   "metadata": {},
   "source": [
    "7.Identify the three blocks in this code:\n",
    "spam = 0\n",
    "if spam == 10:\n",
    "print('eggs')\n",
    "if spam > 5:\n",
    "print('bacon')\n",
    "else:\n",
    "print('ham')\n",
    "print('spam')\n",
    "print('spam')"
   ]
  },
  {
   "cell_type": "markdown",
   "id": "39128aaf",
   "metadata": {},
   "source": [
    "Ans:\n",
    "Block 1 : spam = 0\n",
    "Block 2 : if spam == 10:\n",
    "              print('eggs')\n",
    "\n",
    "Block 3 : if spam > 5:\n",
    "                  print('bacon')\n",
    "          else:\n",
    "                  print('ham')\n",
    "                  print('spam')\n",
    "                  print('spam')"
   ]
  },
  {
   "cell_type": "markdown",
   "id": "20cabb56",
   "metadata": {},
   "source": [
    "# Eigth question"
   ]
  },
  {
   "cell_type": "markdown",
   "id": "fc96831c",
   "metadata": {},
   "source": [
    "8.Write code that prints Hello if 1 is stored in spam, prints Howdy if 2 is stored in spam, and prints\n",
    "Greetings! if anything else is stored in spam."
   ]
  },
  {
   "cell_type": "code",
   "execution_count": null,
   "id": "fc648d89",
   "metadata": {},
   "outputs": [],
   "source": [
    "# enter 1 for hello, 2 for howdy, anything else for greetings\n",
    "\n",
    "spam = input()\n",
    "\n",
    "if spam == '1':\n",
    "    print('Hello')\n",
    "elif spam == '2':\n",
    "    print('Howdy')\n",
    "else: \n",
    "    print('Greetings')"
   ]
  },
  {
   "cell_type": "markdown",
   "id": "4c516a85",
   "metadata": {},
   "source": [
    "# Ninth question"
   ]
  },
  {
   "cell_type": "markdown",
   "id": "c68c048d",
   "metadata": {},
   "source": [
    "9.If your programme is stuck in an endless loop, what keys you’ll press?"
   ]
  },
  {
   "cell_type": "code",
   "execution_count": null,
   "id": "eee6af49",
   "metadata": {},
   "outputs": [],
   "source": [
    "Ans: CTRL-C"
   ]
  },
  {
   "cell_type": "markdown",
   "id": "851a1af9",
   "metadata": {},
   "source": [
    "# Tenth question"
   ]
  },
  {
   "cell_type": "markdown",
   "id": "befca6dc",
   "metadata": {},
   "source": [
    "10.How can you tell the difference between break and continue?"
   ]
  },
  {
   "cell_type": "markdown",
   "id": "04549266",
   "metadata": {},
   "source": [
    "Ans: Break statement terminates current working loop and passes the control to next statement where as \n",
    "    incase of continue it jumps of to the next condition instead of termination which will continue the \n",
    "    execution of loop."
   ]
  },
  {
   "cell_type": "markdown",
   "id": "c285e0d2",
   "metadata": {},
   "source": [
    "# Eleventh question"
   ]
  },
  {
   "cell_type": "markdown",
   "id": "8e978f2d",
   "metadata": {},
   "source": [
    "11.In a for loop, what is the difference between range(10), range(0, 10), and range(0, 10, 1)?"
   ]
  },
  {
   "cell_type": "markdown",
   "id": "93735a1a",
   "metadata": {},
   "source": [
    "Ans: All 3 will produce the same output, in range() if only one integer is given then it will be considered as stop integer as max-1 limit(ex: if we give for i in range(10) then we will get output from 0 to 9), if range() two integers are given which will be given as start and stop where start is lesser than stop then we get the outputs from those limits with the last value being stop value-1(ex: if we give for i in range(0,10) then we will get output from 0 to 9) atlast for range(0,10,1) the one represent step size, which we can consider as jump. Suppose if we give for i in range(0,10,2) then we get 0,2,4,6,8 as outputs."
   ]
  },
  {
   "cell_type": "markdown",
   "id": "53e3c696",
   "metadata": {},
   "source": [
    "# Twelth question"
   ]
  },
  {
   "cell_type": "markdown",
   "id": "53bd374a",
   "metadata": {},
   "source": [
    "12.Write a short program that prints the numbers 1 to 10 using a for loop. Then write an equivalent\n",
    "program that prints the numbers 1 to 10 using a while loop."
   ]
  },
  {
   "cell_type": "code",
   "execution_count": 50,
   "id": "e1f2b42f",
   "metadata": {},
   "outputs": [
    {
     "name": "stdout",
     "output_type": "stream",
     "text": [
      "1\n",
      "2\n",
      "3\n",
      "4\n",
      "5\n",
      "6\n",
      "7\n",
      "8\n",
      "9\n",
      "10\n"
     ]
    }
   ],
   "source": [
    "#using for loop\n",
    "\n",
    "for i in range(1,11):\n",
    "    print(i)\n"
   ]
  },
  {
   "cell_type": "code",
   "execution_count": 56,
   "id": "d254afe6",
   "metadata": {},
   "outputs": [
    {
     "name": "stdout",
     "output_type": "stream",
     "text": [
      "1\n",
      "2\n",
      "3\n",
      "4\n",
      "5\n",
      "6\n",
      "7\n",
      "8\n",
      "9\n",
      "10\n"
     ]
    }
   ],
   "source": [
    "#using while loop\n",
    "\n",
    "i = 1\n",
    "while i<=10:\n",
    "    print(i)\n",
    "    i+=1"
   ]
  },
  {
   "cell_type": "markdown",
   "id": "c8178374",
   "metadata": {},
   "source": [
    "# Tirteenth question"
   ]
  },
  {
   "cell_type": "markdown",
   "id": "fc946fd2",
   "metadata": {},
   "source": [
    "13.If you had a function named bacon() inside a module named spam, how would you call it after\n",
    "importing spam?"
   ]
  },
  {
   "cell_type": "code",
   "execution_count": null,
   "id": "097b8584",
   "metadata": {},
   "outputs": [],
   "source": [
    "Ans: spam.bacon()"
   ]
  }
 ],
 "metadata": {
  "kernelspec": {
   "display_name": "Python 3 (ipykernel)",
   "language": "python",
   "name": "python3"
  },
  "language_info": {
   "codemirror_mode": {
    "name": "ipython",
    "version": 3
   },
   "file_extension": ".py",
   "mimetype": "text/x-python",
   "name": "python",
   "nbconvert_exporter": "python",
   "pygments_lexer": "ipython3",
   "version": "3.9.7"
  }
 },
 "nbformat": 4,
 "nbformat_minor": 5
}
