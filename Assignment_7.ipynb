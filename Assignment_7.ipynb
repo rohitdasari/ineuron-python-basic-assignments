{
 "cells": [
  {
   "cell_type": "markdown",
   "id": "f9b9a716",
   "metadata": {},
   "source": [
    "1.What is the name of the feature responsible for generating Regex objects?"
   ]
  },
  {
   "cell_type": "code",
   "execution_count": null,
   "id": "181552aa",
   "metadata": {},
   "outputs": [],
   "source": [
    "import re\n",
    "re.compile()\n",
    "#re.compile() is feature for generating regex objects"
   ]
  },
  {
   "cell_type": "markdown",
   "id": "0c052165",
   "metadata": {},
   "source": [
    "2. Why do raw strings often appear in Regex objects?"
   ]
  },
  {
   "cell_type": "markdown",
   "id": "212fed9c",
   "metadata": {},
   "source": [
    "Ans: Raw strings do not treat backslashes as part of an escape sequence, So they appear in Regex objects"
   ]
  },
  {
   "cell_type": "markdown",
   "id": "73ffabb4",
   "metadata": {},
   "source": [
    "3.What is the return value of the search() method?"
   ]
  },
  {
   "cell_type": "markdown",
   "id": "220f9f0d",
   "metadata": {},
   "source": [
    "Ans: re.search(pat,str) where it returns the match object if it matches anywhere in the string"
   ]
  },
  {
   "cell_type": "markdown",
   "id": "701e8d89",
   "metadata": {},
   "source": [
    "4.From a Match item, how do you get the actual strings that match the pattern?"
   ]
  },
  {
   "cell_type": "markdown",
   "id": "e54702f3",
   "metadata": {},
   "source": [
    "Ans: we use group() method to get all matches"
   ]
  },
  {
   "cell_type": "markdown",
   "id": "6060b0a0",
   "metadata": {},
   "source": [
    "5.In the regex which created from the r'(\\d\\d\\d)-(\\d\\d\\d-\\d\\d\\d\\d)', what does group zero cover?\n",
    "Group 2? Group 1?"
   ]
  },
  {
   "cell_type": "markdown",
   "id": "a4668de8",
   "metadata": {},
   "source": [
    "Ans: group zero covers entire match, group 2 covers second set of parentheses and group 1 covers first set of parenthesis"
   ]
  },
  {
   "cell_type": "markdown",
   "id": "e0448083",
   "metadata": {},
   "source": [
    "6.In standard expression syntax, parentheses and intervals have distinct meanings. How can you tell\n",
    "a regex that you want it to fit real parentheses and periods?"
   ]
  },
  {
   "cell_type": "code",
   "execution_count": null,
   "id": "6d90688f",
   "metadata": {},
   "outputs": [],
   "source": [
    "Ans: to escape periods and parentheses we can use \\.,\\(,and \\)"
   ]
  },
  {
   "cell_type": "markdown",
   "id": "58794cff",
   "metadata": {},
   "source": [
    "7.The findall() method returns a string list or a list of string tuples. What causes it to return one of\n",
    "the two options?"
   ]
  },
  {
   "cell_type": "code",
   "execution_count": null,
   "id": "6e75a563",
   "metadata": {},
   "outputs": [],
   "source": [
    "Ans: if there are no groups in regex then a string list is returened else list of string tuples is returned."
   ]
  },
  {
   "cell_type": "markdown",
   "id": "b931d3a5",
   "metadata": {},
   "source": [
    "8.In standard expressions, what does the | character mean?"
   ]
  },
  {
   "cell_type": "code",
   "execution_count": null,
   "id": "12e1347b",
   "metadata": {},
   "outputs": [],
   "source": [
    "Ans: The character | means or in standard expression"
   ]
  },
  {
   "cell_type": "markdown",
   "id": "e1154a12",
   "metadata": {},
   "source": [
    "9.In regular expressions, what does the character stand for?"
   ]
  },
  {
   "cell_type": "markdown",
   "id": "76ce23eb",
   "metadata": {},
   "source": [
    "Ans: The ? character is used to match zero or one occurance"
   ]
  },
  {
   "cell_type": "markdown",
   "id": "c9989d14",
   "metadata": {},
   "source": [
    "10.In regular expressions, what is the difference between the + and * characters?"
   ]
  },
  {
   "cell_type": "markdown",
   "id": "1d1b0ba6",
   "metadata": {},
   "source": [
    "Ans: the character + refers to one or more occurance and the character * refers to zero or more occurance"
   ]
  },
  {
   "cell_type": "markdown",
   "id": "25555363",
   "metadata": {},
   "source": [
    "11.What is the difference between {4} and {4,5} in regular expression?"
   ]
  },
  {
   "cell_type": "code",
   "execution_count": null,
   "id": "f80d7b1c",
   "metadata": {},
   "outputs": [],
   "source": [
    "Ans: in regular expression {4} matches pattern exactly 4 times, the {4,5} matches pattern 4 to 5 times"
   ]
  },
  {
   "cell_type": "markdown",
   "id": "d63612b2",
   "metadata": {},
   "source": [
    "12.What do you mean by the \\d, \\w, and \\s shorthand character classes signify in regular\n",
    "expressions?"
   ]
  },
  {
   "cell_type": "code",
   "execution_count": null,
   "id": "f40af4d3",
   "metadata": {},
   "outputs": [],
   "source": [
    "Ans:\n",
    "\\d - returns match where there are digits in the string(0-9)\n",
    "\\w - returns match where there are any word characters(a-z,0-9,_)\n",
    "\\s - returns match where there is a white space character"
   ]
  },
  {
   "cell_type": "markdown",
   "id": "6174096d",
   "metadata": {},
   "source": [
    "13.What do means by \\D, \\W, and \\S shorthand character classes signify in regular expressions?"
   ]
  },
  {
   "cell_type": "code",
   "execution_count": null,
   "id": "a06425b2",
   "metadata": {},
   "outputs": [],
   "source": [
    "Ans:\n",
    "\\D - returns match where there are no digits in the string\n",
    "\\W - returns match where there are no word characters\n",
    "\\S - returns match where there is no white space character"
   ]
  },
  {
   "cell_type": "markdown",
   "id": "458706f4",
   "metadata": {},
   "source": [
    "14.What is the difference between .*? and .*?"
   ]
  },
  {
   "cell_type": "code",
   "execution_count": null,
   "id": "9cc70c7a",
   "metadata": {},
   "outputs": [],
   "source": [
    "Ans: .*? is considered as ungreedy match whereras .* is greedy match"
   ]
  },
  {
   "cell_type": "markdown",
   "id": "b4be5bc8",
   "metadata": {},
   "source": [
    "15.What is the syntax for matching both numbers and lowercase letters with a character class?"
   ]
  },
  {
   "cell_type": "code",
   "execution_count": null,
   "id": "92740f7c",
   "metadata": {},
   "outputs": [],
   "source": [
    "Ans: [0-9a-z]"
   ]
  },
  {
   "cell_type": "markdown",
   "id": "0fbd28fd",
   "metadata": {},
   "source": [
    "16.What is the procedure for making a normal expression in regax case insensitive?"
   ]
  },
  {
   "cell_type": "code",
   "execution_count": null,
   "id": "d6208df0",
   "metadata": {},
   "outputs": [],
   "source": [
    "Ans: Add re.IGNORECASE as second argument to re.complie()"
   ]
  },
  {
   "cell_type": "markdown",
   "id": "c1723390",
   "metadata": {},
   "source": [
    "17.What does the . character normally match? What does it match if re.DOTALL is passed as 2nd\n",
    "argument in re.compile()?"
   ]
  },
  {
   "cell_type": "markdown",
   "id": "a40b3cc5",
   "metadata": {},
   "source": [
    "Ans: . character matches any character, except newline character, re.DOTALL added to re.compile() as second argument will match newline characters"
   ]
  },
  {
   "cell_type": "markdown",
   "id": "39e3e7d3",
   "metadata": {},
   "source": [
    "18.If numReg = re.compile(r'\\d+'), what will numRegex.sub('X', '11 drummers, 10 pipers, five rings, 4\n",
    "hen') return?"
   ]
  },
  {
   "cell_type": "markdown",
   "id": "13529b4f",
   "metadata": {},
   "source": [
    "Ans: Here we gave numReg as re.compile(r'\\d+'), so we will get NameError as we are checking it for numRegex.sub but if we change it to numReg.sub('X', '11 drummers, 10 pipers, five rings, 4 hen') then we will get 'X drummers, X pipers, five rings, X hen' as output."
   ]
  },
  {
   "cell_type": "markdown",
   "id": "6a69abea",
   "metadata": {},
   "source": [
    "19.What does passing re.VERBOSE as the 2nd argument to re.compile() allow to do?"
   ]
  },
  {
   "cell_type": "markdown",
   "id": "edddedde",
   "metadata": {},
   "source": [
    "Ans: passing re.VERBOSE allows you to add comments and spaces to the string"
   ]
  },
  {
   "cell_type": "markdown",
   "id": "1e33c8ac",
   "metadata": {},
   "source": [
    "20.How would you write a regex that match a number with comma for every three digits? It must\n",
    "match the given following:\n",
    "'42'\n",
    "'1,234'\n",
    "'6,368,745'\n",
    "but not the following:\n",
    "'12,34,567' (which has only two digits between the commas)\n",
    "'1234' (which lacks commas)"
   ]
  },
  {
   "cell_type": "code",
   "execution_count": null,
   "id": "05e28fb7",
   "metadata": {},
   "outputs": [],
   "source": [
    "Ans: use re.compile(r'^\\d{1,3}(,\\d{3})*$') "
   ]
  },
  {
   "cell_type": "markdown",
   "id": "a44a8171",
   "metadata": {},
   "source": [
    "21.How would you write a regex that matches the full name of someone whose last name is\n",
    "Watanabe? You can assume that the first name that comes before it will always be one word that\n",
    "begins with a capital letter. The regex must match the following:\n",
    "'Haruto Watanabe'\n",
    "'Alice Watanabe'\n",
    "'RoboCop Watanabe'\n",
    "but not the following:\n",
    "'haruto Watanabe' (where the first name is not capitalized)\n",
    "'Mr. Watanabe' (where the preceding word has a nonletter character)\n",
    "'Watanabe' (which has no first name)\n",
    "'Haruto watanabe' (where Watanabe is not capitalized)"
   ]
  },
  {
   "cell_type": "code",
   "execution_count": null,
   "id": "a2a50ab4",
   "metadata": {},
   "outputs": [],
   "source": [
    "name = re.compile(r'[A-Z][a-z]*\\sWatanabe')\n",
    "name.findall('Haruto Watanabe,Alice Watanabe ,RoboCop Watanabe , haruto Watanabe,Mr. Watanabe , Watanabe,Haruto watanabe')"
   ]
  },
  {
   "cell_type": "markdown",
   "id": "2317517e",
   "metadata": {},
   "source": [
    "22.How would you write a regex that matches a sentence where the first word is either Alice, Bob,\n",
    "or Carol; the second word is either eats, pets, or throws; the third word is apples, cats, or baseballs;\n",
    "and the sentence ends with a period? This regex should be case-insensitive. It must match the\n",
    "following:\n",
    "'Alice eats apples.'\n",
    "'Bob pets cats.'\n",
    "'Carol throws baseballs.'\n",
    "'Alice throws Apples.''\n",
    "'BOB EATS CATS.'\n",
    "but not the following:\n",
    "'RoboCop eats apples.'\n",
    "'ALICE THROWS FOOTBALLS.'\n",
    "'Carol eats 7 cats.'"
   ]
  },
  {
   "cell_type": "code",
   "execution_count": null,
   "id": "b6b2fdf0",
   "metadata": {},
   "outputs": [],
   "source": [
    "namefood = re.compile(r'(Alice|Bob|Carol)\\s(eats|pets|throws)\\s(apples|cats|baseballs).', re.IGNORECASE)\n",
    "namefood.findall('Alice eats apples,Bob pets cats,Carol throws baseballs,Alice throws Apples,BOB EATS CATS,RoboCop eats apples.ALICE THROWS FOOTBALLS.Carol eats 7 cats')"
   ]
  }
 ],
 "metadata": {
  "kernelspec": {
   "display_name": "Python 3 (ipykernel)",
   "language": "python",
   "name": "python3"
  },
  "language_info": {
   "codemirror_mode": {
    "name": "ipython",
    "version": 3
   },
   "file_extension": ".py",
   "mimetype": "text/x-python",
   "name": "python",
   "nbconvert_exporter": "python",
   "pygments_lexer": "ipython3",
   "version": "3.9.7"
  }
 },
 "nbformat": 4,
 "nbformat_minor": 5
}
