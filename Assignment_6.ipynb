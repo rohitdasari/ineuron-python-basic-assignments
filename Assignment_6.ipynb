{
 "cells": [
  {
   "cell_type": "markdown",
   "id": "25600058",
   "metadata": {},
   "source": [
    "1.What are escape characters, and how do you use them?"
   ]
  },
  {
   "cell_type": "markdown",
   "id": "4f778db4",
   "metadata": {},
   "source": [
    "Ans: Escape characters make our work easy but they won't get printed, for suppose to type a single quote in code(') rather than typing ' directly we use \\', so the characters after the single quote won't get effected\n",
    "\n",
    "Ex: 'It\\'s working'"
   ]
  },
  {
   "cell_type": "markdown",
   "id": "fbce807c",
   "metadata": {},
   "source": [
    "2.What do the escape characters n and t stand for?"
   ]
  },
  {
   "cell_type": "markdown",
   "id": "70728517",
   "metadata": {},
   "source": [
    "Ans: \\n stands for new line and \\t stands for tab"
   ]
  },
  {
   "cell_type": "markdown",
   "id": "6f85d777",
   "metadata": {},
   "source": [
    "3.What is the way to include backslash characters in a string?"
   ]
  },
  {
   "cell_type": "code",
   "execution_count": null,
   "id": "924f5756",
   "metadata": {},
   "outputs": [],
   "source": [
    "Ans: The escape character \\\\ will represent backslash character"
   ]
  },
  {
   "cell_type": "markdown",
   "id": "1a225e13",
   "metadata": {},
   "source": [
    "4.The string \"Howl's Moving Castle\" is a correct value. Why isn't the single quote character in the\n",
    "word Howl's not escaped a problem?"
   ]
  },
  {
   "cell_type": "markdown",
   "id": "d3311c9e",
   "metadata": {},
   "source": [
    "Ans: The string began with double quotes, so the single quote didn't cause any issue, but if the string began with single quote then we must use backslash as escape character infront of the single quote"
   ]
  },
  {
   "cell_type": "markdown",
   "id": "699f2210",
   "metadata": {},
   "source": [
    "5.How do you write a string of newlines if you don't want to use the n character?"
   ]
  },
  {
   "cell_type": "code",
   "execution_count": null,
   "id": "2431918a",
   "metadata": {},
   "outputs": [],
   "source": [
    "Ans: for strings which are multiline we can use newline without n escape character"
   ]
  },
  {
   "cell_type": "markdown",
   "id": "0c7d9be8",
   "metadata": {},
   "source": [
    "6.What are the values of the given expressions?\n",
    "'Hello, world'[1]\n",
    "'Hello, world!'[0:5]\n",
    "'Hello, world!'[:5]\n",
    "'Hello, world!'[3:]"
   ]
  },
  {
   "cell_type": "code",
   "execution_count": null,
   "id": "88971f43",
   "metadata": {},
   "outputs": [],
   "source": [
    "'Hello, world'[1]  - 'e'\n",
    "'Hello, world!'[0:5] - 'Hello'\n",
    "'Hello, world!'[:5] - 'Hello'\n",
    "'Hello, world!'[3:] - 'lo, world!'"
   ]
  },
  {
   "cell_type": "markdown",
   "id": "eab08968",
   "metadata": {},
   "source": [
    "7.What are the values of the following expressions?\n",
    "'Hello'.upper()\n",
    "'Hello'.upper().isupper()\n",
    "'Hello'.upper().lower()"
   ]
  },
  {
   "cell_type": "code",
   "execution_count": null,
   "id": "0f8b8282",
   "metadata": {},
   "outputs": [],
   "source": [
    "'Hello'.upper() - 'HELLO'\n",
    "'Hello'.upper().isupper() - True\n",
    "'Hello'.upper().lower() - 'hello'"
   ]
  },
  {
   "cell_type": "markdown",
   "id": "09443c63",
   "metadata": {},
   "source": [
    "8.What are the values of the following expressions?\n",
    "'Remember, remember, the fifth of July.'.split()\n",
    "'-'.join('There can only one.'.split())"
   ]
  },
  {
   "cell_type": "code",
   "execution_count": null,
   "id": "938ea891",
   "metadata": {},
   "outputs": [],
   "source": [
    "'Remember, remember, the fifth of July.'.split() - ['Remember,', 'remember,', 'the', 'fifth', 'of', 'July.']\n",
    "'-'.join('There can only one.'.split()) - 'There-can-only-one.'"
   ]
  },
  {
   "cell_type": "code",
   "execution_count": 40,
   "id": "eb096957",
   "metadata": {},
   "outputs": [
    {
     "name": "stdout",
     "output_type": "stream",
     "text": [
      "Object `string` not found.\n"
     ]
    }
   ],
   "source": [
    "9.What are the methods for right-justifying, left-justifying, and centering a string?"
   ]
  },
  {
   "cell_type": "markdown",
   "id": "accfd6e8",
   "metadata": {},
   "source": [
    "9.What are the methods for right-justifying, left-justifying, and centering a string"
   ]
  },
  {
   "cell_type": "markdown",
   "id": "79e89df5",
   "metadata": {},
   "source": [
    "Ans: rjust() for right-justifying, ljust() for left-justifying and cstr for centering "
   ]
  },
  {
   "cell_type": "markdown",
   "id": "f93d83dd",
   "metadata": {},
   "source": [
    "10.What is the best way to remove whitespace characters from the start or end?"
   ]
  },
  {
   "cell_type": "markdown",
   "id": "7cf58a3a",
   "metadata": {},
   "source": [
    "Ans: lstrip(), rstrip() method are used to remove whitespaces from start or end respectively."
   ]
  }
 ],
 "metadata": {
  "kernelspec": {
   "display_name": "Python 3 (ipykernel)",
   "language": "python",
   "name": "python3"
  },
  "language_info": {
   "codemirror_mode": {
    "name": "ipython",
    "version": 3
   },
   "file_extension": ".py",
   "mimetype": "text/x-python",
   "name": "python",
   "nbconvert_exporter": "python",
   "pygments_lexer": "ipython3",
   "version": "3.9.7"
  }
 },
 "nbformat": 4,
 "nbformat_minor": 5
}
